{
 "cells": [
  {
   "cell_type": "markdown",
   "metadata": {},
   "source": [
    "# NYC Yellow Taxi Analysis"
   ]
  },
  {
   "cell_type": "markdown",
   "metadata": {},
   "source": [
    "![](./images/image1.jpg)"
   ]
  },
  {
   "cell_type": "markdown",
   "metadata": {},
   "source": [
    "**Introduction:**\\\n",
    "The New York City Taxi and Limousine Commission (TLC), created in 1971, is the agency responsible for licensing and regulating New York City’s medallion (yellow) taxicabs, for-hire vehicles (community-based liveries, black cars and luxury limousines), commuter vans, and paratransit vehicles. TLC has released a staggeringly detailed historical dataset covering over 1 billion individual taxi trips in the city starting from January 2009 through December 2020. Taken as a whole, the detailed trip-level data is more than just a vast list of taxi pickup and drop off coordinates: it’s a story of how New Yorkers move around the city. How bad is the rush hour traffic? What are the hotspots for pickup and dropoff location? How much tip do drivers get? The dataset helps in addressing all of these questions and many more. \n",
    " \n",
    "This dataset is of high value for fetching useful insights that may help policy makers and city administration to make effective policies towards curbing traffic and reducing the number of disputes in public transport. And hence, The purpose of our analysis is to extract useful insights so that the solutions are developed from both, the customer’s perspective as well driver’s perspective.\n",
    "\n",
    "Data Source:- https://www1.nyc.gov/site/tlc/about/tlc-trip-record-data.page"
   ]
  },
  {
   "cell_type": "markdown",
   "metadata": {},
   "source": [
    "### Data Dictionary"
   ]
  },
  {
   "cell_type": "markdown",
   "metadata": {},
   "source": [
    "|      Column Name     |                                              Column Description                                              |\n",
    "|:--------------------:|:------------------------------------------------------------------------------------------------------------:|\n",
    "| tpep_pickup_datetime | Holds the pickup datetime information for a trip                                                             |\n",
    "| tpep_pickup_datetime | Holds the dropoff datetime information for a trip                                                            |\n",
    "| passenger_count      | Number of passengers for a trip                                                                              |\n",
    "| trip_distance        | Distance of trip done in miles                                                                               |\n",
    "| PULocationID         | TLC Taxi Zone in which the taximeter was engaged                                                             |\n",
    "| DOLocationID         | TLC Taxi Zone in which the taximeter was disengaged                                                          |\n",
    "| payment_type         | Type of payment in number 1 = Credit card, 2 = Cash, 3 = No charge, 4 = Dispute 5 = Unknown, 6 = Voided trip |\n",
    "| tip_amount           | Tip amount for a trip (Cash tips are not included)                                                           |\n",
    "| total_amount         | Total amount for a trip (without tips)                                                                       |\n",
    "| weekday              | Weekday for initiated  trip                                                                                  |\n",
    "| pickup_hour          | Pickup hour for a trip                                                                                       |\n",
    "| dropoff_hour         | Drop off hour for a trip                                                                                     |\n"
   ]
  },
  {
   "cell_type": "markdown",
   "metadata": {},
   "source": [
    "### 1. Importing neccessary libraries"
   ]
  },
  {
   "cell_type": "code",
   "execution_count": 1,
   "metadata": {},
   "outputs": [],
   "source": [
    "# Data Wrangling\n",
    "import numpy as np\n",
    "import pandas as pd\n",
    "import sqlite3\n",
    "import sqlalchemy as db\n",
    "from sqlalchemy import *\n",
    "from sqlalchemy.ext.compiler import compiles\n",
    "\n",
    "import urllib.request\n",
    "import zipfile\n",
    "import random\n",
    "import itertools\n",
    "import math\n",
    "\n",
    "# Data Visualization\n",
    "import shapefile\n",
    "from shapely.geometry import Polygon\n",
    "from descartes.patch import PolygonPatch\n",
    "import matplotlib.pyplot as plt\n",
    "plt.style.use('seaborn')\n",
    "\n",
    "import matplotlib\n",
    "\n",
    "import seaborn as sns\n",
    "palette = sns.color_palette('Paired', 10)\n",
    "\n",
    "# Removing Warnings\n",
    "import warnings\n",
    "warnings.filterwarnings('ignore')"
   ]
  },
  {
   "cell_type": "markdown",
   "metadata": {},
   "source": [
    "### 2. Getting and storing the data\n",
    "- The data I'll be using for this analysis is: Yellow taxi trips data for the year 2019.\n",
    "- Give the huge amount of the data, It is wise to a database management system. Here I'll be using **SQLite** to store the data. **SQLalechemy** is an ORM used to interact with the DB.\n",
    "- The database file created is called **'nyc_db.db'**"
   ]
  },
  {
   "cell_type": "code",
   "execution_count": 2,
   "metadata": {},
   "outputs": [],
   "source": [
    "from sqlalchemy import create_engine\n",
    "\n",
    "engine = create_engine('sqlite:///nyc_db.db')"
   ]
  },
  {
   "cell_type": "markdown",
   "metadata": {},
   "source": [
    "**Note:** This chunk of the code is to download the data. I've already provided the files in the directory called data. Run only if needed."
   ]
  },
  {
   "cell_type": "code",
   "execution_count": 8,
   "metadata": {},
   "outputs": [],
   "source": [
    "# Download the Trip Record Data\n",
    "# for month in range(1,13):\n",
    "#     urllib.request.urlretrieve(\"https://s3.amazonaws.com/nyc-tlc/trip+data/\"+ \\\n",
    "#                                \"yellow_tripdata_2019-{0:0=2d}.csv\".format(month), \n",
    "#                                \"nyc.2019-{0:0=2d}.csv\".format(month))\n",
    "\n",
    "# Download the location Data\n",
    "# urllib.request.urlretrieve(\"https://s3.amazonaws.com/nyc-tlc/misc/taxi_zones.zip\", \"taxi_zones.zip\")\n",
    "# with zipfile.ZipFile(\"taxi_zones.zip\",\"r\") as zip_ref:\n",
    "#     zip_ref.extractall(\"./shape\")"
   ]
  },
  {
   "cell_type": "markdown",
   "metadata": {},
   "source": [
    "**Note:** The next part of the code adds the data into the database. Make sure that the code is executed only once. Otherwise, duplicate data will be added."
   ]
  },
  {
   "cell_type": "code",
   "execution_count": 3,
   "metadata": {},
   "outputs": [],
   "source": [
    "j, chunksize = 1, 400000\n",
    "for month in range(1,7):\n",
    "    fp = \"data/nyc.2019-{0:0=2d}.csv\".format(month)\n",
    "    for df in pd.read_csv(fp, chunksize=chunksize, iterator=True):\n",
    "        df = df.rename(columns={c: c.replace(' ', '_') for c in df.columns})\n",
    "        df[\"tpep_pickup_datetime\"] = pd.to_datetime(df[\"tpep_pickup_datetime\"])\n",
    "        df[\"tpep_dropoff_datetime\"] = pd.to_datetime(df[\"tpep_dropoff_datetime\"])\n",
    "        df[\"weekday\"] = df[\"tpep_pickup_datetime\"].dt.day_name()\n",
    "        df['pickup_hour'] = df[\"tpep_pickup_datetime\"].dt.hour\n",
    "        df['dropoff_hour'] = df[\"tpep_dropoff_datetime\"].dt.hour\n",
    "        df['month'] = df[\"tpep_dropoff_datetime\"].dt.month\n",
    "        df.index += j\n",
    "        df.to_sql('base_table', engine, if_exists='append')\n",
    "        j = df.index[-1] + 1"
   ]
  },
  {
   "cell_type": "markdown",
   "metadata": {},
   "source": [
    "Now we create a copy the main table with only the columns we need for this project. This is the table on which we will perform various operation to clean and filter the data for analysis. The new data will be called **nyc_records**."
   ]
  },
  {
   "cell_type": "code",
   "execution_count": 4,
   "metadata": {},
   "outputs": [],
   "source": [
    "def cloneTable(name, table, metadata, lists):\n",
    "    cols = []\n",
    "    constraints = [co.copy() for co in table.constraints]\n",
    "    # list for column names\n",
    "    for c in table.columns:\n",
    "        if c in lists:\n",
    "            cols.append(c.copy())\n",
    "    return Table(name, metadata, *(cols + constraints))\n",
    "\n",
    "\n",
    "smeta = MetaData(engine)\n",
    "table = db.Table('base_table', smeta, autoload=True, autoload_with=engine)\n",
    "\n",
    "col_list = [table.columns.tpep_pickup_datetime, table.columns.tpep_dropoff_datetime, table.columns.passenger_count, \n",
    "               table.columns.trip_distance, table.columns.RatecodeID, table.columns.PULocationID, table.columns.DOLocationID, \n",
    "               table.columns.payment_type, table.columns.total_amount, table.columns.tip_amount, table.columns.weekday,\n",
    "              table.columns.pickup_hour, table.columns.dropoff_hour]\n",
    "\n",
    "# create temp table\n",
    "ntable = cloneTable('nyc_records', table, smeta, col_list)\n",
    "\n",
    "# Create table in database\n",
    "if not ntable.exists():\n",
    "    ntable.create()\n",
    "else:\n",
    "    raise Exception(\"New table already exists\")\n",
    "    \n",
    "# copy data\n",
    "sel = select(col_list)\n",
    "ins = ntable.insert().from_select([\"tpep_pickup_datetime\", \"tpep_dropoff_datetime\", \"passenger_count\", \"trip_distance\", \n",
    "                                   \"RatecodeID\", \"PULocationID\", \"DOLocationID\", \"payment_type\", \"total_amount\", \n",
    "                                   \"tip_amount\", \"weekday\", \"pickup_hour\", \"dropoff_hour\"], sel)\n",
    "engine.execute(ins)"
   ]
  },
  {
   "cell_type": "code",
   "execution_count": 3,
   "metadata": {},
   "outputs": [
    {
     "name": "stdout",
     "output_type": "stream",
     "text": [
      "base_table\n",
      "nyc_records\n"
     ]
    }
   ],
   "source": [
    "connection = engine.connect()\n",
    "m = MetaData()\n",
    "m.reflect(engine)\n",
    "for table in m.tables.values():\n",
    "    print(table.name)"
   ]
  },
  {
   "cell_type": "markdown",
   "metadata": {},
   "source": [
    "We query some rows and convert it to data frame so that we can see how the data looks."
   ]
  },
  {
   "cell_type": "code",
   "execution_count": 4,
   "metadata": {},
   "outputs": [
    {
     "data": {
      "text/html": [
       "<div>\n",
       "<style scoped>\n",
       "    .dataframe tbody tr th:only-of-type {\n",
       "        vertical-align: middle;\n",
       "    }\n",
       "\n",
       "    .dataframe tbody tr th {\n",
       "        vertical-align: top;\n",
       "    }\n",
       "\n",
       "    .dataframe thead th {\n",
       "        text-align: right;\n",
       "    }\n",
       "</style>\n",
       "<table border=\"1\" class=\"dataframe\">\n",
       "  <thead>\n",
       "    <tr style=\"text-align: right;\">\n",
       "      <th></th>\n",
       "      <th>tpep_pickup_datetime</th>\n",
       "      <th>tpep_dropoff_datetime</th>\n",
       "      <th>passenger_count</th>\n",
       "      <th>trip_distance</th>\n",
       "      <th>RatecodeID</th>\n",
       "      <th>PULocationID</th>\n",
       "      <th>DOLocationID</th>\n",
       "      <th>payment_type</th>\n",
       "      <th>tip_amount</th>\n",
       "      <th>total_amount</th>\n",
       "      <th>weekday</th>\n",
       "      <th>pickup_hour</th>\n",
       "      <th>dropoff_hour</th>\n",
       "    </tr>\n",
       "  </thead>\n",
       "  <tbody>\n",
       "    <tr>\n",
       "      <th>0</th>\n",
       "      <td>2019-01-01 00:46:40</td>\n",
       "      <td>2019-01-01 00:53:20</td>\n",
       "      <td>1</td>\n",
       "      <td>1.5</td>\n",
       "      <td>1</td>\n",
       "      <td>151</td>\n",
       "      <td>239</td>\n",
       "      <td>1</td>\n",
       "      <td>1.65</td>\n",
       "      <td>9.95</td>\n",
       "      <td>Tuesday</td>\n",
       "      <td>0</td>\n",
       "      <td>0</td>\n",
       "    </tr>\n",
       "    <tr>\n",
       "      <th>1</th>\n",
       "      <td>2019-01-01 00:59:47</td>\n",
       "      <td>2019-01-01 01:18:59</td>\n",
       "      <td>1</td>\n",
       "      <td>2.6</td>\n",
       "      <td>1</td>\n",
       "      <td>239</td>\n",
       "      <td>246</td>\n",
       "      <td>1</td>\n",
       "      <td>1.00</td>\n",
       "      <td>16.30</td>\n",
       "      <td>Tuesday</td>\n",
       "      <td>0</td>\n",
       "      <td>1</td>\n",
       "    </tr>\n",
       "    <tr>\n",
       "      <th>2</th>\n",
       "      <td>2018-12-21 13:48:30</td>\n",
       "      <td>2018-12-21 13:52:40</td>\n",
       "      <td>3</td>\n",
       "      <td>0.0</td>\n",
       "      <td>1</td>\n",
       "      <td>236</td>\n",
       "      <td>236</td>\n",
       "      <td>1</td>\n",
       "      <td>0.00</td>\n",
       "      <td>5.80</td>\n",
       "      <td>Friday</td>\n",
       "      <td>13</td>\n",
       "      <td>13</td>\n",
       "    </tr>\n",
       "    <tr>\n",
       "      <th>3</th>\n",
       "      <td>2018-11-28 15:52:25</td>\n",
       "      <td>2018-11-28 15:55:45</td>\n",
       "      <td>5</td>\n",
       "      <td>0.0</td>\n",
       "      <td>1</td>\n",
       "      <td>193</td>\n",
       "      <td>193</td>\n",
       "      <td>2</td>\n",
       "      <td>0.00</td>\n",
       "      <td>7.55</td>\n",
       "      <td>Wednesday</td>\n",
       "      <td>15</td>\n",
       "      <td>15</td>\n",
       "    </tr>\n",
       "    <tr>\n",
       "      <th>4</th>\n",
       "      <td>2018-11-28 15:56:57</td>\n",
       "      <td>2018-11-28 15:58:33</td>\n",
       "      <td>5</td>\n",
       "      <td>0.0</td>\n",
       "      <td>2</td>\n",
       "      <td>193</td>\n",
       "      <td>193</td>\n",
       "      <td>2</td>\n",
       "      <td>0.00</td>\n",
       "      <td>55.55</td>\n",
       "      <td>Wednesday</td>\n",
       "      <td>15</td>\n",
       "      <td>15</td>\n",
       "    </tr>\n",
       "  </tbody>\n",
       "</table>\n",
       "</div>"
      ],
      "text/plain": [
       "  tpep_pickup_datetime tpep_dropoff_datetime  passenger_count  trip_distance  \\\n",
       "0  2019-01-01 00:46:40   2019-01-01 00:53:20                1            1.5   \n",
       "1  2019-01-01 00:59:47   2019-01-01 01:18:59                1            2.6   \n",
       "2  2018-12-21 13:48:30   2018-12-21 13:52:40                3            0.0   \n",
       "3  2018-11-28 15:52:25   2018-11-28 15:55:45                5            0.0   \n",
       "4  2018-11-28 15:56:57   2018-11-28 15:58:33                5            0.0   \n",
       "\n",
       "   RatecodeID  PULocationID  DOLocationID  payment_type  tip_amount  \\\n",
       "0           1           151           239             1        1.65   \n",
       "1           1           239           246             1        1.00   \n",
       "2           1           236           236             1        0.00   \n",
       "3           1           193           193             2        0.00   \n",
       "4           2           193           193             2        0.00   \n",
       "\n",
       "   total_amount    weekday  pickup_hour  dropoff_hour  \n",
       "0          9.95    Tuesday            0             0  \n",
       "1         16.30    Tuesday            0             1  \n",
       "2          5.80     Friday           13            13  \n",
       "3          7.55  Wednesday           15            15  \n",
       "4         55.55  Wednesday           15            15  "
      ]
     },
     "execution_count": 4,
     "metadata": {},
     "output_type": "execute_result"
    }
   ],
   "source": [
    "nyc_records_table = db.Table('nyc_records', m, autoload=True, autoload_with=engine)\n",
    "# print(len(table.columns.keys()))\n",
    "query = db.select([nyc_records_table])\n",
    "ResultProxy = connection.execute(query)\n",
    "ResultHead = ResultProxy.fetchmany(10)\n",
    "df = pd.DataFrame(ResultHead)\n",
    "df.columns = ResultHead[0].keys()\n",
    "df.head()"
   ]
  },
  {
   "cell_type": "code",
   "execution_count": 7,
   "metadata": {},
   "outputs": [
    {
     "data": {
      "text/plain": [
       "tpep_pickup_datetime     datetime64[ns]\n",
       "tpep_dropoff_datetime    datetime64[ns]\n",
       "passenger_count                   int64\n",
       "trip_distance                   float64\n",
       "RatecodeID                        int64\n",
       "PULocationID                      int64\n",
       "DOLocationID                      int64\n",
       "payment_type                      int64\n",
       "tip_amount                      float64\n",
       "total_amount                    float64\n",
       "weekday                          object\n",
       "pickup_hour                       int64\n",
       "dropoff_hour                      int64\n",
       "dtype: object"
      ]
     },
     "execution_count": 7,
     "metadata": {},
     "output_type": "execute_result"
    }
   ],
   "source": [
    "df.dtypes"
   ]
  },
  {
   "cell_type": "markdown",
   "metadata": {},
   "source": [
    "To be sure that we have properly created the table we'll count no.of rows in both the tables"
   ]
  },
  {
   "cell_type": "code",
   "execution_count": 8,
   "metadata": {},
   "outputs": [
    {
     "name": "stdout",
     "output_type": "stream",
     "text": [
      "44459136\n"
     ]
    }
   ],
   "source": [
    "# counting no.of rows in base_table\n",
    "base_table = db.Table('base_table', m, autoload=True, autoload_with=engine)\n",
    "query = db.select([base_table])\n",
    "ResultProxy = connection.execute(query)\n",
    "\n",
    "batch_not_empty = True\n",
    "count = 0\n",
    "while batch_not_empty:\n",
    "    batch = ResultProxy.fetchmany(500000)\n",
    "    count += len(batch)\n",
    "    if not batch:\n",
    "        break\n",
    "print(count)"
   ]
  },
  {
   "cell_type": "code",
   "execution_count": 9,
   "metadata": {},
   "outputs": [
    {
     "name": "stdout",
     "output_type": "stream",
     "text": [
      "44459136\n"
     ]
    }
   ],
   "source": [
    "# count no.of rows in new table\n",
    "query = db.select([nyc_records_table])\n",
    "ResultProxy = connection.execute(query)\n",
    "\n",
    "batch_not_empty = True\n",
    "count = 0\n",
    "while batch_not_empty:\n",
    "    batch = ResultProxy.fetchmany(500000)\n",
    "    count += len(batch)\n",
    "    if not batch:\n",
    "        break\n",
    "print(count)"
   ]
  },
  {
   "cell_type": "markdown",
   "metadata": {},
   "source": [
    "Both the tables have same no.of rows. Since, there are no simple way I can calculate summary statistics for the whole data, I'll convert it into a dataframe. Pandas dataframe is capable of handling over 100 millions of records (we have approx. 41 million records). The dataframe is created by reading the data from **nyc_records**."
   ]
  },
  {
   "cell_type": "code",
   "execution_count": 10,
   "metadata": {},
   "outputs": [],
   "source": [
    "iterator = pd.read_sql_table(\"nyc_records\", con=connection, chunksize=500000)"
   ]
  },
  {
   "cell_type": "code",
   "execution_count": 11,
   "metadata": {},
   "outputs": [],
   "source": [
    "df_list = []\n",
    "for c in iterator:\n",
    "    df_list.append(c)"
   ]
  },
  {
   "cell_type": "code",
   "execution_count": 12,
   "metadata": {},
   "outputs": [
    {
     "name": "stdout",
     "output_type": "stream",
     "text": [
      "44459136\n"
     ]
    }
   ],
   "source": [
    "desc_df = pd.concat(df_list)\n",
    "print(len(desc_df))"
   ]
  },
  {
   "cell_type": "code",
   "execution_count": 13,
   "metadata": {},
   "outputs": [
    {
     "data": {
      "text/html": [
       "<div>\n",
       "<style scoped>\n",
       "    .dataframe tbody tr th:only-of-type {\n",
       "        vertical-align: middle;\n",
       "    }\n",
       "\n",
       "    .dataframe tbody tr th {\n",
       "        vertical-align: top;\n",
       "    }\n",
       "\n",
       "    .dataframe thead th {\n",
       "        text-align: right;\n",
       "    }\n",
       "</style>\n",
       "<table border=\"1\" class=\"dataframe\">\n",
       "  <thead>\n",
       "    <tr style=\"text-align: right;\">\n",
       "      <th></th>\n",
       "      <th>passenger_count</th>\n",
       "      <th>trip_distance</th>\n",
       "      <th>RatecodeID</th>\n",
       "      <th>PULocationID</th>\n",
       "      <th>DOLocationID</th>\n",
       "      <th>payment_type</th>\n",
       "      <th>tip_amount</th>\n",
       "      <th>total_amount</th>\n",
       "      <th>pickup_hour</th>\n",
       "      <th>dropoff_hour</th>\n",
       "    </tr>\n",
       "  </thead>\n",
       "  <tbody>\n",
       "    <tr>\n",
       "      <th>count</th>\n",
       "      <td>4.445914e+07</td>\n",
       "      <td>4.445914e+07</td>\n",
       "      <td>4.445914e+07</td>\n",
       "      <td>4.445914e+07</td>\n",
       "      <td>4.445914e+07</td>\n",
       "      <td>4.445914e+07</td>\n",
       "      <td>4.445914e+07</td>\n",
       "      <td>4.445914e+07</td>\n",
       "      <td>4.445914e+07</td>\n",
       "      <td>4.445914e+07</td>\n",
       "    </tr>\n",
       "    <tr>\n",
       "      <th>mean</th>\n",
       "      <td>1.570669e+00</td>\n",
       "      <td>2.963479e+00</td>\n",
       "      <td>1.059793e+00</td>\n",
       "      <td>1.633542e+02</td>\n",
       "      <td>1.616744e+02</td>\n",
       "      <td>1.284856e+00</td>\n",
       "      <td>2.157938e+00</td>\n",
       "      <td>1.863620e+01</td>\n",
       "      <td>1.388104e+01</td>\n",
       "      <td>1.391989e+01</td>\n",
       "    </tr>\n",
       "    <tr>\n",
       "      <th>std</th>\n",
       "      <td>1.222896e+00</td>\n",
       "      <td>7.909912e+00</td>\n",
       "      <td>6.900142e-01</td>\n",
       "      <td>6.616360e+01</td>\n",
       "      <td>7.030454e+01</td>\n",
       "      <td>4.743740e-01</td>\n",
       "      <td>2.139731e+01</td>\n",
       "      <td>2.371228e+02</td>\n",
       "      <td>6.028871e+00</td>\n",
       "      <td>6.113550e+00</td>\n",
       "    </tr>\n",
       "    <tr>\n",
       "      <th>min</th>\n",
       "      <td>0.000000e+00</td>\n",
       "      <td>0.000000e+00</td>\n",
       "      <td>1.000000e+00</td>\n",
       "      <td>1.000000e+00</td>\n",
       "      <td>1.000000e+00</td>\n",
       "      <td>1.000000e+00</td>\n",
       "      <td>-8.989000e+01</td>\n",
       "      <td>-4.508800e+02</td>\n",
       "      <td>0.000000e+00</td>\n",
       "      <td>0.000000e+00</td>\n",
       "    </tr>\n",
       "    <tr>\n",
       "      <th>25%</th>\n",
       "      <td>1.000000e+00</td>\n",
       "      <td>9.700000e-01</td>\n",
       "      <td>1.000000e+00</td>\n",
       "      <td>1.140000e+02</td>\n",
       "      <td>1.120000e+02</td>\n",
       "      <td>1.000000e+00</td>\n",
       "      <td>0.000000e+00</td>\n",
       "      <td>1.080000e+01</td>\n",
       "      <td>1.000000e+01</td>\n",
       "      <td>1.000000e+01</td>\n",
       "    </tr>\n",
       "    <tr>\n",
       "      <th>50%</th>\n",
       "      <td>1.000000e+00</td>\n",
       "      <td>1.600000e+00</td>\n",
       "      <td>1.000000e+00</td>\n",
       "      <td>1.620000e+02</td>\n",
       "      <td>1.620000e+02</td>\n",
       "      <td>1.000000e+00</td>\n",
       "      <td>1.800000e+00</td>\n",
       "      <td>1.416000e+01</td>\n",
       "      <td>1.500000e+01</td>\n",
       "      <td>1.500000e+01</td>\n",
       "    </tr>\n",
       "    <tr>\n",
       "      <th>75%</th>\n",
       "      <td>2.000000e+00</td>\n",
       "      <td>3.000000e+00</td>\n",
       "      <td>1.000000e+00</td>\n",
       "      <td>2.330000e+02</td>\n",
       "      <td>2.340000e+02</td>\n",
       "      <td>2.000000e+00</td>\n",
       "      <td>2.860000e+00</td>\n",
       "      <td>2.015000e+01</td>\n",
       "      <td>1.900000e+01</td>\n",
       "      <td>1.900000e+01</td>\n",
       "    </tr>\n",
       "    <tr>\n",
       "      <th>max</th>\n",
       "      <td>9.000000e+00</td>\n",
       "      <td>4.597722e+04</td>\n",
       "      <td>9.900000e+01</td>\n",
       "      <td>2.650000e+02</td>\n",
       "      <td>2.650000e+02</td>\n",
       "      <td>5.000000e+00</td>\n",
       "      <td>1.414920e+05</td>\n",
       "      <td>1.084772e+06</td>\n",
       "      <td>2.300000e+01</td>\n",
       "      <td>2.300000e+01</td>\n",
       "    </tr>\n",
       "  </tbody>\n",
       "</table>\n",
       "</div>"
      ],
      "text/plain": [
       "       passenger_count  trip_distance    RatecodeID  PULocationID  \\\n",
       "count     4.445914e+07   4.445914e+07  4.445914e+07  4.445914e+07   \n",
       "mean      1.570669e+00   2.963479e+00  1.059793e+00  1.633542e+02   \n",
       "std       1.222896e+00   7.909912e+00  6.900142e-01  6.616360e+01   \n",
       "min       0.000000e+00   0.000000e+00  1.000000e+00  1.000000e+00   \n",
       "25%       1.000000e+00   9.700000e-01  1.000000e+00  1.140000e+02   \n",
       "50%       1.000000e+00   1.600000e+00  1.000000e+00  1.620000e+02   \n",
       "75%       2.000000e+00   3.000000e+00  1.000000e+00  2.330000e+02   \n",
       "max       9.000000e+00   4.597722e+04  9.900000e+01  2.650000e+02   \n",
       "\n",
       "       DOLocationID  payment_type    tip_amount  total_amount   pickup_hour  \\\n",
       "count  4.445914e+07  4.445914e+07  4.445914e+07  4.445914e+07  4.445914e+07   \n",
       "mean   1.616744e+02  1.284856e+00  2.157938e+00  1.863620e+01  1.388104e+01   \n",
       "std    7.030454e+01  4.743740e-01  2.139731e+01  2.371228e+02  6.028871e+00   \n",
       "min    1.000000e+00  1.000000e+00 -8.989000e+01 -4.508800e+02  0.000000e+00   \n",
       "25%    1.120000e+02  1.000000e+00  0.000000e+00  1.080000e+01  1.000000e+01   \n",
       "50%    1.620000e+02  1.000000e+00  1.800000e+00  1.416000e+01  1.500000e+01   \n",
       "75%    2.340000e+02  2.000000e+00  2.860000e+00  2.015000e+01  1.900000e+01   \n",
       "max    2.650000e+02  5.000000e+00  1.414920e+05  1.084772e+06  2.300000e+01   \n",
       "\n",
       "       dropoff_hour  \n",
       "count  4.445914e+07  \n",
       "mean   1.391989e+01  \n",
       "std    6.113550e+00  \n",
       "min    0.000000e+00  \n",
       "25%    1.000000e+01  \n",
       "50%    1.500000e+01  \n",
       "75%    1.900000e+01  \n",
       "max    2.300000e+01  "
      ]
     },
     "execution_count": 13,
     "metadata": {},
     "output_type": "execute_result"
    }
   ],
   "source": [
    "desc_df.describe()"
   ]
  },
  {
   "cell_type": "markdown",
   "metadata": {},
   "source": [
    "Next we get the location data for NewYork City, which includes Location IDs, lat-long, Zone, Borough, and more."
   ]
  },
  {
   "cell_type": "code",
   "execution_count": 5,
   "metadata": {},
   "outputs": [
    {
     "data": {
      "text/html": [
       "<div>\n",
       "<style scoped>\n",
       "    .dataframe tbody tr th:only-of-type {\n",
       "        vertical-align: middle;\n",
       "    }\n",
       "\n",
       "    .dataframe tbody tr th {\n",
       "        vertical-align: top;\n",
       "    }\n",
       "\n",
       "    .dataframe thead th {\n",
       "        text-align: right;\n",
       "    }\n",
       "</style>\n",
       "<table border=\"1\" class=\"dataframe\">\n",
       "  <thead>\n",
       "    <tr style=\"text-align: right;\">\n",
       "      <th></th>\n",
       "      <th>OBJECTID</th>\n",
       "      <th>Shape_Leng</th>\n",
       "      <th>Shape_Area</th>\n",
       "      <th>zone</th>\n",
       "      <th>LocationID</th>\n",
       "      <th>borough</th>\n",
       "      <th>longitude</th>\n",
       "      <th>latitude</th>\n",
       "    </tr>\n",
       "  </thead>\n",
       "  <tbody>\n",
       "    <tr>\n",
       "      <th>0</th>\n",
       "      <td>1</td>\n",
       "      <td>0.116357</td>\n",
       "      <td>0.000782</td>\n",
       "      <td>Newark Airport</td>\n",
       "      <td>1</td>\n",
       "      <td>EWR</td>\n",
       "      <td>-74.184</td>\n",
       "      <td>40.694</td>\n",
       "    </tr>\n",
       "    <tr>\n",
       "      <th>1</th>\n",
       "      <td>2</td>\n",
       "      <td>0.433470</td>\n",
       "      <td>0.004866</td>\n",
       "      <td>Jamaica Bay</td>\n",
       "      <td>2</td>\n",
       "      <td>Queens</td>\n",
       "      <td>-73.823</td>\n",
       "      <td>40.638</td>\n",
       "    </tr>\n",
       "    <tr>\n",
       "      <th>2</th>\n",
       "      <td>3</td>\n",
       "      <td>0.084341</td>\n",
       "      <td>0.000314</td>\n",
       "      <td>Allerton/Pelham Gardens</td>\n",
       "      <td>3</td>\n",
       "      <td>Bronx</td>\n",
       "      <td>-73.847</td>\n",
       "      <td>40.871</td>\n",
       "    </tr>\n",
       "    <tr>\n",
       "      <th>3</th>\n",
       "      <td>4</td>\n",
       "      <td>0.043567</td>\n",
       "      <td>0.000112</td>\n",
       "      <td>Alphabet City</td>\n",
       "      <td>4</td>\n",
       "      <td>Manhattan</td>\n",
       "      <td>-73.971</td>\n",
       "      <td>40.725</td>\n",
       "    </tr>\n",
       "    <tr>\n",
       "      <th>4</th>\n",
       "      <td>5</td>\n",
       "      <td>0.092146</td>\n",
       "      <td>0.000498</td>\n",
       "      <td>Arden Heights</td>\n",
       "      <td>5</td>\n",
       "      <td>Staten Island</td>\n",
       "      <td>-74.174</td>\n",
       "      <td>40.562</td>\n",
       "    </tr>\n",
       "    <tr>\n",
       "      <th>5</th>\n",
       "      <td>6</td>\n",
       "      <td>0.150491</td>\n",
       "      <td>0.000606</td>\n",
       "      <td>Arrochar/Fort Wadsworth</td>\n",
       "      <td>6</td>\n",
       "      <td>Staten Island</td>\n",
       "      <td>-74.063</td>\n",
       "      <td>40.602</td>\n",
       "    </tr>\n",
       "    <tr>\n",
       "      <th>6</th>\n",
       "      <td>7</td>\n",
       "      <td>0.107417</td>\n",
       "      <td>0.000390</td>\n",
       "      <td>Astoria</td>\n",
       "      <td>7</td>\n",
       "      <td>Queens</td>\n",
       "      <td>-73.904</td>\n",
       "      <td>40.767</td>\n",
       "    </tr>\n",
       "    <tr>\n",
       "      <th>7</th>\n",
       "      <td>8</td>\n",
       "      <td>0.027591</td>\n",
       "      <td>0.000027</td>\n",
       "      <td>Astoria Park</td>\n",
       "      <td>8</td>\n",
       "      <td>Queens</td>\n",
       "      <td>-73.923</td>\n",
       "      <td>40.775</td>\n",
       "    </tr>\n",
       "    <tr>\n",
       "      <th>8</th>\n",
       "      <td>9</td>\n",
       "      <td>0.099784</td>\n",
       "      <td>0.000338</td>\n",
       "      <td>Auburndale</td>\n",
       "      <td>9</td>\n",
       "      <td>Queens</td>\n",
       "      <td>-73.785</td>\n",
       "      <td>40.761</td>\n",
       "    </tr>\n",
       "    <tr>\n",
       "      <th>9</th>\n",
       "      <td>24</td>\n",
       "      <td>0.047000</td>\n",
       "      <td>0.000061</td>\n",
       "      <td>Bloomingdale</td>\n",
       "      <td>24</td>\n",
       "      <td>Manhattan</td>\n",
       "      <td>-73.959</td>\n",
       "      <td>40.798</td>\n",
       "    </tr>\n",
       "    <tr>\n",
       "      <th>10</th>\n",
       "      <td>10</td>\n",
       "      <td>0.099839</td>\n",
       "      <td>0.000436</td>\n",
       "      <td>Baisley Park</td>\n",
       "      <td>10</td>\n",
       "      <td>Queens</td>\n",
       "      <td>-73.783</td>\n",
       "      <td>40.689</td>\n",
       "    </tr>\n",
       "    <tr>\n",
       "      <th>11</th>\n",
       "      <td>11</td>\n",
       "      <td>0.079211</td>\n",
       "      <td>0.000265</td>\n",
       "      <td>Bath Beach</td>\n",
       "      <td>11</td>\n",
       "      <td>Brooklyn</td>\n",
       "      <td>-74.001</td>\n",
       "      <td>40.603</td>\n",
       "    </tr>\n",
       "    <tr>\n",
       "      <th>12</th>\n",
       "      <td>12</td>\n",
       "      <td>0.036661</td>\n",
       "      <td>0.000042</td>\n",
       "      <td>Battery Park</td>\n",
       "      <td>12</td>\n",
       "      <td>Manhattan</td>\n",
       "      <td>-74.015</td>\n",
       "      <td>40.704</td>\n",
       "    </tr>\n",
       "    <tr>\n",
       "      <th>13</th>\n",
       "      <td>13</td>\n",
       "      <td>0.050281</td>\n",
       "      <td>0.000149</td>\n",
       "      <td>Battery Park City</td>\n",
       "      <td>13</td>\n",
       "      <td>Manhattan</td>\n",
       "      <td>-74.012</td>\n",
       "      <td>40.719</td>\n",
       "    </tr>\n",
       "    <tr>\n",
       "      <th>14</th>\n",
       "      <td>18</td>\n",
       "      <td>0.069800</td>\n",
       "      <td>0.000149</td>\n",
       "      <td>Bedford Park</td>\n",
       "      <td>18</td>\n",
       "      <td>Bronx</td>\n",
       "      <td>-73.885</td>\n",
       "      <td>40.866</td>\n",
       "    </tr>\n",
       "    <tr>\n",
       "      <th>15</th>\n",
       "      <td>25</td>\n",
       "      <td>0.047146</td>\n",
       "      <td>0.000124</td>\n",
       "      <td>Boerum Hill</td>\n",
       "      <td>25</td>\n",
       "      <td>Brooklyn</td>\n",
       "      <td>-73.981</td>\n",
       "      <td>40.689</td>\n",
       "    </tr>\n",
       "    <tr>\n",
       "      <th>16</th>\n",
       "      <td>14</td>\n",
       "      <td>0.175214</td>\n",
       "      <td>0.001382</td>\n",
       "      <td>Bay Ridge</td>\n",
       "      <td>14</td>\n",
       "      <td>Brooklyn</td>\n",
       "      <td>-74.034</td>\n",
       "      <td>40.644</td>\n",
       "    </tr>\n",
       "    <tr>\n",
       "      <th>17</th>\n",
       "      <td>15</td>\n",
       "      <td>0.144336</td>\n",
       "      <td>0.000925</td>\n",
       "      <td>Bay Terrace/Fort Totten</td>\n",
       "      <td>15</td>\n",
       "      <td>Queens</td>\n",
       "      <td>-73.777</td>\n",
       "      <td>40.796</td>\n",
       "    </tr>\n",
       "    <tr>\n",
       "      <th>18</th>\n",
       "      <td>22</td>\n",
       "      <td>0.126170</td>\n",
       "      <td>0.000472</td>\n",
       "      <td>Bensonhurst West</td>\n",
       "      <td>22</td>\n",
       "      <td>Brooklyn</td>\n",
       "      <td>-73.992</td>\n",
       "      <td>40.624</td>\n",
       "    </tr>\n",
       "    <tr>\n",
       "      <th>19</th>\n",
       "      <td>23</td>\n",
       "      <td>0.290556</td>\n",
       "      <td>0.002196</td>\n",
       "      <td>Bloomfield/Emerson Hill</td>\n",
       "      <td>23</td>\n",
       "      <td>Staten Island</td>\n",
       "      <td>-74.195</td>\n",
       "      <td>40.635</td>\n",
       "    </tr>\n",
       "  </tbody>\n",
       "</table>\n",
       "</div>"
      ],
      "text/plain": [
       "    OBJECTID  Shape_Leng  Shape_Area                     zone  LocationID  \\\n",
       "0          1    0.116357    0.000782           Newark Airport           1   \n",
       "1          2    0.433470    0.004866              Jamaica Bay           2   \n",
       "2          3    0.084341    0.000314  Allerton/Pelham Gardens           3   \n",
       "3          4    0.043567    0.000112            Alphabet City           4   \n",
       "4          5    0.092146    0.000498            Arden Heights           5   \n",
       "5          6    0.150491    0.000606  Arrochar/Fort Wadsworth           6   \n",
       "6          7    0.107417    0.000390                  Astoria           7   \n",
       "7          8    0.027591    0.000027             Astoria Park           8   \n",
       "8          9    0.099784    0.000338               Auburndale           9   \n",
       "9         24    0.047000    0.000061             Bloomingdale          24   \n",
       "10        10    0.099839    0.000436             Baisley Park          10   \n",
       "11        11    0.079211    0.000265               Bath Beach          11   \n",
       "12        12    0.036661    0.000042             Battery Park          12   \n",
       "13        13    0.050281    0.000149        Battery Park City          13   \n",
       "14        18    0.069800    0.000149             Bedford Park          18   \n",
       "15        25    0.047146    0.000124              Boerum Hill          25   \n",
       "16        14    0.175214    0.001382                Bay Ridge          14   \n",
       "17        15    0.144336    0.000925  Bay Terrace/Fort Totten          15   \n",
       "18        22    0.126170    0.000472         Bensonhurst West          22   \n",
       "19        23    0.290556    0.002196  Bloomfield/Emerson Hill          23   \n",
       "\n",
       "          borough  longitude  latitude  \n",
       "0             EWR    -74.184    40.694  \n",
       "1          Queens    -73.823    40.638  \n",
       "2           Bronx    -73.847    40.871  \n",
       "3       Manhattan    -73.971    40.725  \n",
       "4   Staten Island    -74.174    40.562  \n",
       "5   Staten Island    -74.063    40.602  \n",
       "6          Queens    -73.904    40.767  \n",
       "7          Queens    -73.923    40.775  \n",
       "8          Queens    -73.785    40.761  \n",
       "9       Manhattan    -73.959    40.798  \n",
       "10         Queens    -73.783    40.689  \n",
       "11       Brooklyn    -74.001    40.603  \n",
       "12      Manhattan    -74.015    40.704  \n",
       "13      Manhattan    -74.012    40.719  \n",
       "14          Bronx    -73.885    40.866  \n",
       "15       Brooklyn    -73.981    40.689  \n",
       "16       Brooklyn    -74.034    40.644  \n",
       "17         Queens    -73.777    40.796  \n",
       "18       Brooklyn    -73.992    40.624  \n",
       "19  Staten Island    -74.195    40.635  "
      ]
     },
     "execution_count": 5,
     "metadata": {},
     "output_type": "execute_result"
    }
   ],
   "source": [
    "df_zone = pd.read_csv(\"data/taxi_zones.csv\")\n",
    "lat_lon = df_zone[\"the_geom\"]\n",
    "df_zone[\"longitude\"] = [float(x.split(\" \")[1][3:10]) for x in lat_lon]\n",
    "df_zone[\"latitude\"] = [float(x.split(\" \")[2][0:6]) for x in lat_lon]\n",
    "del df_zone[\"the_geom\"]\n",
    "df_zone.head(20)"
   ]
  },
  {
   "cell_type": "code",
   "execution_count": 6,
   "metadata": {},
   "outputs": [
    {
     "data": {
      "text/plain": [
       "OBJECTID        int64\n",
       "Shape_Leng    float64\n",
       "Shape_Area    float64\n",
       "zone           object\n",
       "LocationID      int64\n",
       "borough        object\n",
       "longitude     float64\n",
       "latitude      float64\n",
       "dtype: object"
      ]
     },
     "execution_count": 6,
     "metadata": {},
     "output_type": "execute_result"
    }
   ],
   "source": [
    "df_zone.dtypes"
   ]
  },
  {
   "cell_type": "code",
   "execution_count": 7,
   "metadata": {},
   "outputs": [
    {
     "data": {
      "text/html": [
       "<div>\n",
       "<style scoped>\n",
       "    .dataframe tbody tr th:only-of-type {\n",
       "        vertical-align: middle;\n",
       "    }\n",
       "\n",
       "    .dataframe tbody tr th {\n",
       "        vertical-align: top;\n",
       "    }\n",
       "\n",
       "    .dataframe thead th {\n",
       "        text-align: right;\n",
       "    }\n",
       "</style>\n",
       "<table border=\"1\" class=\"dataframe\">\n",
       "  <thead>\n",
       "    <tr style=\"text-align: right;\">\n",
       "      <th></th>\n",
       "      <th>OBJECTID</th>\n",
       "      <th>Shape_Leng</th>\n",
       "      <th>Shape_Area</th>\n",
       "      <th>LocationID</th>\n",
       "      <th>longitude</th>\n",
       "      <th>latitude</th>\n",
       "    </tr>\n",
       "  </thead>\n",
       "  <tbody>\n",
       "    <tr>\n",
       "      <th>count</th>\n",
       "      <td>263.000000</td>\n",
       "      <td>263.000000</td>\n",
       "      <td>263.000000</td>\n",
       "      <td>263.000000</td>\n",
       "      <td>263.000000</td>\n",
       "      <td>263.000000</td>\n",
       "    </tr>\n",
       "    <tr>\n",
       "      <th>mean</th>\n",
       "      <td>132.000000</td>\n",
       "      <td>0.094269</td>\n",
       "      <td>0.000402</td>\n",
       "      <td>131.984791</td>\n",
       "      <td>-73.926943</td>\n",
       "      <td>40.731129</td>\n",
       "    </tr>\n",
       "    <tr>\n",
       "      <th>std</th>\n",
       "      <td>76.065761</td>\n",
       "      <td>0.054594</td>\n",
       "      <td>0.000482</td>\n",
       "      <td>76.073787</td>\n",
       "      <td>0.096072</td>\n",
       "      <td>0.083747</td>\n",
       "    </tr>\n",
       "    <tr>\n",
       "      <th>min</th>\n",
       "      <td>1.000000</td>\n",
       "      <td>0.014306</td>\n",
       "      <td>0.000006</td>\n",
       "      <td>1.000000</td>\n",
       "      <td>-74.212000</td>\n",
       "      <td>40.527000</td>\n",
       "    </tr>\n",
       "    <tr>\n",
       "      <th>25%</th>\n",
       "      <td>66.500000</td>\n",
       "      <td>0.054722</td>\n",
       "      <td>0.000133</td>\n",
       "      <td>66.500000</td>\n",
       "      <td>-73.983000</td>\n",
       "      <td>40.674500</td>\n",
       "    </tr>\n",
       "    <tr>\n",
       "      <th>50%</th>\n",
       "      <td>132.000000</td>\n",
       "      <td>0.084341</td>\n",
       "      <td>0.000268</td>\n",
       "      <td>132.000000</td>\n",
       "      <td>-73.931000</td>\n",
       "      <td>40.728000</td>\n",
       "    </tr>\n",
       "    <tr>\n",
       "      <th>75%</th>\n",
       "      <td>197.500000</td>\n",
       "      <td>0.119488</td>\n",
       "      <td>0.000480</td>\n",
       "      <td>197.500000</td>\n",
       "      <td>-73.858500</td>\n",
       "      <td>40.783500</td>\n",
       "    </tr>\n",
       "    <tr>\n",
       "      <th>max</th>\n",
       "      <td>263.000000</td>\n",
       "      <td>0.433470</td>\n",
       "      <td>0.004866</td>\n",
       "      <td>263.000000</td>\n",
       "      <td>-73.701000</td>\n",
       "      <td>40.910000</td>\n",
       "    </tr>\n",
       "  </tbody>\n",
       "</table>\n",
       "</div>"
      ],
      "text/plain": [
       "         OBJECTID  Shape_Leng  Shape_Area  LocationID   longitude    latitude\n",
       "count  263.000000  263.000000  263.000000  263.000000  263.000000  263.000000\n",
       "mean   132.000000    0.094269    0.000402  131.984791  -73.926943   40.731129\n",
       "std     76.065761    0.054594    0.000482   76.073787    0.096072    0.083747\n",
       "min      1.000000    0.014306    0.000006    1.000000  -74.212000   40.527000\n",
       "25%     66.500000    0.054722    0.000133   66.500000  -73.983000   40.674500\n",
       "50%    132.000000    0.084341    0.000268  132.000000  -73.931000   40.728000\n",
       "75%    197.500000    0.119488    0.000480  197.500000  -73.858500   40.783500\n",
       "max    263.000000    0.433470    0.004866  263.000000  -73.701000   40.910000"
      ]
     },
     "execution_count": 7,
     "metadata": {},
     "output_type": "execute_result"
    }
   ],
   "source": [
    "df_zone.describe()"
   ]
  },
  {
   "cell_type": "markdown",
   "metadata": {},
   "source": [
    "### 3. Data Preprocessing"
   ]
  },
  {
   "cell_type": "markdown",
   "metadata": {},
   "source": [
    "It can be noticed that the minimum value of **total_amount** as well as **tip_amount** is negative. As this does not seem to be realistic I will drop them from the dataset."
   ]
  },
  {
   "cell_type": "code",
   "execution_count": 17,
   "metadata": {},
   "outputs": [
    {
     "data": {
      "text/plain": [
       "<sqlalchemy.engine.result.ResultProxy at 0x1f616719cc0>"
      ]
     },
     "execution_count": 17,
     "metadata": {},
     "output_type": "execute_result"
    }
   ],
   "source": [
    "d = nyc_records_table.delete().where(nyc_records_table.c.total_amount < 0)\n",
    "engine.execute(d)"
   ]
  },
  {
   "cell_type": "code",
   "execution_count": 18,
   "metadata": {},
   "outputs": [
    {
     "data": {
      "text/plain": [
       "<sqlalchemy.engine.result.ResultProxy at 0x1f616719c50>"
      ]
     },
     "execution_count": 18,
     "metadata": {},
     "output_type": "execute_result"
    }
   ],
   "source": [
    "d = nyc_records_table.delete().where(nyc_records_table.c.tip_amount < 0)\n",
    "engine.execute(d)"
   ]
  },
  {
   "cell_type": "markdown",
   "metadata": {},
   "source": [
    "Similarly, maximum values of **total_amount** and **tip_amount** are extremely huge. We will limit ourself to \\\\$500. So, we remove all the data points whose total amount is greater than \\\\$500 and or tip amount is greater than \\\\$100 (taxi drivers are tipped 10-20\\% of the total fare, therefore, we'll keep the upper bound for the tip_amount)."
   ]
  },
  {
   "cell_type": "code",
   "execution_count": 19,
   "metadata": {},
   "outputs": [
    {
     "data": {
      "text/plain": [
       "<sqlalchemy.engine.result.ResultProxy at 0x1f61a1d3128>"
      ]
     },
     "execution_count": 19,
     "metadata": {},
     "output_type": "execute_result"
    }
   ],
   "source": [
    "d = nyc_records_table.delete().where(nyc_records_table.c.total_amount > 500)\n",
    "engine.execute(d)"
   ]
  },
  {
   "cell_type": "code",
   "execution_count": 20,
   "metadata": {},
   "outputs": [
    {
     "data": {
      "text/plain": [
       "<sqlalchemy.engine.result.ResultProxy at 0x1f61a1d3518>"
      ]
     },
     "execution_count": 20,
     "metadata": {},
     "output_type": "execute_result"
    }
   ],
   "source": [
    "d = nyc_records_table.delete().where(nyc_records_table.c.tip_amount > 100)\n",
    "engine.execute(d)"
   ]
  },
  {
   "cell_type": "markdown",
   "metadata": {},
   "source": [
    "Next is **passenger_count**. As we can see that the maximum passenger count is 9. This may be the wheel-chair accessible mini shuttle which can accomodate around 9 passenger. We will consider that also in the analysis, and hence we don't need to temper with it.\n",
    "\n",
    "In dataframe **df_zone** the range of **location ID** is from 1 to 263. However, according to the summary statistics maximum value of LocationID is 265. Thus, we will remove rows that have LocationID greater than 263."
   ]
  },
  {
   "cell_type": "code",
   "execution_count": 21,
   "metadata": {},
   "outputs": [
    {
     "data": {
      "text/plain": [
       "<sqlalchemy.engine.result.ResultProxy at 0x1f616719550>"
      ]
     },
     "execution_count": 21,
     "metadata": {},
     "output_type": "execute_result"
    }
   ],
   "source": [
    "d = nyc_records_table.delete().where(or_(nyc_records_table.c.PULocationID > 263, nyc_records_table.c.DOLocationID > 263))\n",
    "engine.execute(d)"
   ]
  },
  {
   "cell_type": "markdown",
   "metadata": {},
   "source": [
    "As per **desc_df** highest value of **trip_distance** is very high. I believe, no one would be travelling in a cab for more than 400 kms. Hence we remove the records with high trip distance. We use desc_df to check for the no.of rows for trip_distance greater than 400. "
   ]
  },
  {
   "cell_type": "code",
   "execution_count": 22,
   "metadata": {},
   "outputs": [
    {
     "data": {
      "text/plain": [
       "Counter({False: 44459130, True: 6})"
      ]
     },
     "execution_count": 22,
     "metadata": {},
     "output_type": "execute_result"
    }
   ],
   "source": [
    "from collections import Counter\n",
    "Counter(desc_df['trip_distance']>400)"
   ]
  },
  {
   "cell_type": "code",
   "execution_count": 23,
   "metadata": {},
   "outputs": [
    {
     "data": {
      "text/plain": [
       "<sqlalchemy.engine.result.ResultProxy at 0x1f55793dcf8>"
      ]
     },
     "execution_count": 23,
     "metadata": {},
     "output_type": "execute_result"
    }
   ],
   "source": [
    "d = nyc_records_table.delete().where(nyc_records_table.c.trip_distance > 263)\n",
    "engine.execute(d)"
   ]
  },
  {
   "cell_type": "markdown",
   "metadata": {},
   "source": [
    "We again count the number of rows to get an estimate of how many records were deleted."
   ]
  },
  {
   "cell_type": "code",
   "execution_count": 24,
   "metadata": {},
   "outputs": [
    {
     "name": "stdout",
     "output_type": "stream",
     "text": [
      "43720476\n"
     ]
    }
   ],
   "source": [
    "# count no.of rows in new table\n",
    "query = db.select([nyc_records_table])\n",
    "ResultProxy = connection.execute(query)\n",
    "\n",
    "batch_not_empty = True\n",
    "count = 0\n",
    "while batch_not_empty:\n",
    "    batch = ResultProxy.fetchmany(150000)\n",
    "    count += len(batch)\n",
    "    if not batch:\n",
    "        break\n",
    "print(count)"
   ]
  },
  {
   "cell_type": "markdown",
   "metadata": {},
   "source": [
    "We also have another data frame df_zone which contains location data. For this project we require only LocationID and borough. We apply filter to remove any outlier, if any, that are present in our data"
   ]
  },
  {
   "cell_type": "code",
   "execution_count": 6,
   "metadata": {},
   "outputs": [
    {
     "data": {
      "text/html": [
       "<div>\n",
       "<style scoped>\n",
       "    .dataframe tbody tr th:only-of-type {\n",
       "        vertical-align: middle;\n",
       "    }\n",
       "\n",
       "    .dataframe tbody tr th {\n",
       "        vertical-align: top;\n",
       "    }\n",
       "\n",
       "    .dataframe thead th {\n",
       "        text-align: right;\n",
       "    }\n",
       "</style>\n",
       "<table border=\"1\" class=\"dataframe\">\n",
       "  <thead>\n",
       "    <tr style=\"text-align: right;\">\n",
       "      <th></th>\n",
       "      <th>LocationID</th>\n",
       "      <th>borough</th>\n",
       "    </tr>\n",
       "  </thead>\n",
       "  <tbody>\n",
       "    <tr>\n",
       "      <th>0</th>\n",
       "      <td>1</td>\n",
       "      <td>EWR</td>\n",
       "    </tr>\n",
       "    <tr>\n",
       "      <th>1</th>\n",
       "      <td>2</td>\n",
       "      <td>Queens</td>\n",
       "    </tr>\n",
       "    <tr>\n",
       "      <th>2</th>\n",
       "      <td>3</td>\n",
       "      <td>Bronx</td>\n",
       "    </tr>\n",
       "    <tr>\n",
       "      <th>3</th>\n",
       "      <td>4</td>\n",
       "      <td>Manhattan</td>\n",
       "    </tr>\n",
       "    <tr>\n",
       "      <th>4</th>\n",
       "      <td>5</td>\n",
       "      <td>Staten Island</td>\n",
       "    </tr>\n",
       "    <tr>\n",
       "      <th>...</th>\n",
       "      <td>...</td>\n",
       "      <td>...</td>\n",
       "    </tr>\n",
       "    <tr>\n",
       "      <th>258</th>\n",
       "      <td>256</td>\n",
       "      <td>Brooklyn</td>\n",
       "    </tr>\n",
       "    <tr>\n",
       "      <th>259</th>\n",
       "      <td>259</td>\n",
       "      <td>Bronx</td>\n",
       "    </tr>\n",
       "    <tr>\n",
       "      <th>260</th>\n",
       "      <td>260</td>\n",
       "      <td>Queens</td>\n",
       "    </tr>\n",
       "    <tr>\n",
       "      <th>261</th>\n",
       "      <td>261</td>\n",
       "      <td>Manhattan</td>\n",
       "    </tr>\n",
       "    <tr>\n",
       "      <th>262</th>\n",
       "      <td>262</td>\n",
       "      <td>Manhattan</td>\n",
       "    </tr>\n",
       "  </tbody>\n",
       "</table>\n",
       "<p>263 rows × 2 columns</p>\n",
       "</div>"
      ],
      "text/plain": [
       "     LocationID        borough\n",
       "0             1            EWR\n",
       "1             2         Queens\n",
       "2             3          Bronx\n",
       "3             4      Manhattan\n",
       "4             5  Staten Island\n",
       "..          ...            ...\n",
       "258         256       Brooklyn\n",
       "259         259          Bronx\n",
       "260         260         Queens\n",
       "261         261      Manhattan\n",
       "262         262      Manhattan\n",
       "\n",
       "[263 rows x 2 columns]"
      ]
     },
     "execution_count": 6,
     "metadata": {},
     "output_type": "execute_result"
    }
   ],
   "source": [
    "df_zone = df_zone[['LocationID','borough']]\n",
    "df_zone"
   ]
  },
  {
   "cell_type": "markdown",
   "metadata": {},
   "source": [
    "On scrutinity, I found that **df_zone** dataframe had duplicate values. We will checkout the values and see if we should modify them or remove them"
   ]
  },
  {
   "cell_type": "code",
   "execution_count": 7,
   "metadata": {},
   "outputs": [
    {
     "data": {
      "text/html": [
       "<div>\n",
       "<style scoped>\n",
       "    .dataframe tbody tr th:only-of-type {\n",
       "        vertical-align: middle;\n",
       "    }\n",
       "\n",
       "    .dataframe tbody tr th {\n",
       "        vertical-align: top;\n",
       "    }\n",
       "\n",
       "    .dataframe thead th {\n",
       "        text-align: right;\n",
       "    }\n",
       "</style>\n",
       "<table border=\"1\" class=\"dataframe\">\n",
       "  <thead>\n",
       "    <tr style=\"text-align: right;\">\n",
       "      <th></th>\n",
       "      <th>LocationID</th>\n",
       "      <th>borough</th>\n",
       "    </tr>\n",
       "  </thead>\n",
       "  <tbody>\n",
       "    <tr>\n",
       "      <th>56</th>\n",
       "      <td>56</td>\n",
       "      <td>Queens</td>\n",
       "    </tr>\n",
       "    <tr>\n",
       "      <th>104</th>\n",
       "      <td>103</td>\n",
       "      <td>Manhattan</td>\n",
       "    </tr>\n",
       "    <tr>\n",
       "      <th>105</th>\n",
       "      <td>103</td>\n",
       "      <td>Manhattan</td>\n",
       "    </tr>\n",
       "  </tbody>\n",
       "</table>\n",
       "</div>"
      ],
      "text/plain": [
       "     LocationID    borough\n",
       "56           56     Queens\n",
       "104         103  Manhattan\n",
       "105         103  Manhattan"
      ]
     },
     "execution_count": 7,
     "metadata": {},
     "output_type": "execute_result"
    }
   ],
   "source": [
    "df_zone[df_zone.LocationID.duplicated()]"
   ]
  },
  {
   "cell_type": "markdown",
   "metadata": {},
   "source": [
    "As we can see there are 3 duplicate values in the dataframe. On exploring furhter, I found out the only the values of LocationID of 57, 104 and 105 are duplicated and not the values of other columns. Hence, we assign correct LocationID to the duplicated ones."
   ]
  },
  {
   "cell_type": "code",
   "execution_count": 8,
   "metadata": {},
   "outputs": [],
   "source": [
    "df_zone['LocationID'][56] = 57\n",
    "df_zone['LocationID'][104] = 104\n",
    "df_zone['LocationID'][105] = 105"
   ]
  },
  {
   "cell_type": "markdown",
   "metadata": {},
   "source": [
    "Now that we have performed all the data pre-processing steps on the table nyc_records, we'll convert the table into a data frame. This dataframe will be very useful in the later parts of the project. "
   ]
  },
  {
   "cell_type": "code",
   "execution_count": 9,
   "metadata": {},
   "outputs": [],
   "source": [
    "iterator = pd.read_sql_table(\"nyc_records\", con=connection, chunksize=300000)"
   ]
  },
  {
   "cell_type": "code",
   "execution_count": 10,
   "metadata": {},
   "outputs": [],
   "source": [
    "df_list = []\n",
    "for c in iterator:\n",
    "    temp = c.sample(frac=1)\n",
    "    df_list.append(temp)\n",
    "np.random.shuffle(df_list)"
   ]
  },
  {
   "cell_type": "code",
   "execution_count": 11,
   "metadata": {},
   "outputs": [
    {
     "name": "stdout",
     "output_type": "stream",
     "text": [
      "(43720476, 13)\n"
     ]
    }
   ],
   "source": [
    "df = pd.concat(df_list)\n",
    "df.reset_index(drop=True)\n",
    "print(df.shape)"
   ]
  },
  {
   "cell_type": "code",
   "execution_count": 12,
   "metadata": {},
   "outputs": [
    {
     "name": "stdout",
     "output_type": "stream",
     "text": [
      "Index(['PULocationID', 'PUBorough'], dtype='object')\n",
      "Index(['DOLocationID', 'DOBorough'], dtype='object')\n"
     ]
    }
   ],
   "source": [
    "df_PU = df_zone[:]\n",
    "df_DO = df_zone[:]\n",
    "df_DO.columns = ['DOLocationID', 'DOBorough']\n",
    "df_PU.columns = ['PULocationID', 'PUBorough']\n",
    "print(df_PU.columns)\n",
    "print(df_DO.columns)"
   ]
  },
  {
   "cell_type": "code",
   "execution_count": 13,
   "metadata": {},
   "outputs": [
    {
     "name": "stdout",
     "output_type": "stream",
     "text": [
      "(43720476, 14)\n"
     ]
    },
    {
     "data": {
      "text/html": [
       "<div>\n",
       "<style scoped>\n",
       "    .dataframe tbody tr th:only-of-type {\n",
       "        vertical-align: middle;\n",
       "    }\n",
       "\n",
       "    .dataframe tbody tr th {\n",
       "        vertical-align: top;\n",
       "    }\n",
       "\n",
       "    .dataframe thead th {\n",
       "        text-align: right;\n",
       "    }\n",
       "</style>\n",
       "<table border=\"1\" class=\"dataframe\">\n",
       "  <thead>\n",
       "    <tr style=\"text-align: right;\">\n",
       "      <th></th>\n",
       "      <th>tpep_pickup_datetime</th>\n",
       "      <th>tpep_dropoff_datetime</th>\n",
       "      <th>passenger_count</th>\n",
       "      <th>trip_distance</th>\n",
       "      <th>RatecodeID</th>\n",
       "      <th>PULocationID</th>\n",
       "      <th>DOLocationID</th>\n",
       "      <th>payment_type</th>\n",
       "      <th>tip_amount</th>\n",
       "      <th>total_amount</th>\n",
       "      <th>weekday</th>\n",
       "      <th>pickup_hour</th>\n",
       "      <th>dropoff_hour</th>\n",
       "      <th>PUBorough</th>\n",
       "    </tr>\n",
       "  </thead>\n",
       "  <tbody>\n",
       "    <tr>\n",
       "      <th>0</th>\n",
       "      <td>2019-03-12 10:36:53</td>\n",
       "      <td>2019-03-12 10:49:17</td>\n",
       "      <td>1</td>\n",
       "      <td>1.40</td>\n",
       "      <td>1</td>\n",
       "      <td>237</td>\n",
       "      <td>161</td>\n",
       "      <td>1</td>\n",
       "      <td>2.46</td>\n",
       "      <td>14.76</td>\n",
       "      <td>Tuesday</td>\n",
       "      <td>10</td>\n",
       "      <td>10</td>\n",
       "      <td>Manhattan</td>\n",
       "    </tr>\n",
       "    <tr>\n",
       "      <th>1</th>\n",
       "      <td>2019-03-12 16:17:56</td>\n",
       "      <td>2019-03-12 16:45:18</td>\n",
       "      <td>2</td>\n",
       "      <td>3.90</td>\n",
       "      <td>1</td>\n",
       "      <td>261</td>\n",
       "      <td>234</td>\n",
       "      <td>1</td>\n",
       "      <td>2.00</td>\n",
       "      <td>25.80</td>\n",
       "      <td>Tuesday</td>\n",
       "      <td>16</td>\n",
       "      <td>16</td>\n",
       "      <td>Manhattan</td>\n",
       "    </tr>\n",
       "    <tr>\n",
       "      <th>2</th>\n",
       "      <td>2019-03-12 18:04:12</td>\n",
       "      <td>2019-03-12 18:24:22</td>\n",
       "      <td>2</td>\n",
       "      <td>1.25</td>\n",
       "      <td>1</td>\n",
       "      <td>230</td>\n",
       "      <td>141</td>\n",
       "      <td>1</td>\n",
       "      <td>3.46</td>\n",
       "      <td>20.76</td>\n",
       "      <td>Tuesday</td>\n",
       "      <td>18</td>\n",
       "      <td>18</td>\n",
       "      <td>Manhattan</td>\n",
       "    </tr>\n",
       "    <tr>\n",
       "      <th>3</th>\n",
       "      <td>2019-03-12 13:24:25</td>\n",
       "      <td>2019-03-12 13:35:43</td>\n",
       "      <td>1</td>\n",
       "      <td>1.45</td>\n",
       "      <td>1</td>\n",
       "      <td>114</td>\n",
       "      <td>234</td>\n",
       "      <td>2</td>\n",
       "      <td>0.00</td>\n",
       "      <td>12.30</td>\n",
       "      <td>Tuesday</td>\n",
       "      <td>13</td>\n",
       "      <td>13</td>\n",
       "      <td>Manhattan</td>\n",
       "    </tr>\n",
       "    <tr>\n",
       "      <th>4</th>\n",
       "      <td>2019-03-12 12:42:55</td>\n",
       "      <td>2019-03-12 12:50:46</td>\n",
       "      <td>1</td>\n",
       "      <td>1.53</td>\n",
       "      <td>1</td>\n",
       "      <td>143</td>\n",
       "      <td>48</td>\n",
       "      <td>1</td>\n",
       "      <td>1.00</td>\n",
       "      <td>11.80</td>\n",
       "      <td>Tuesday</td>\n",
       "      <td>12</td>\n",
       "      <td>12</td>\n",
       "      <td>Manhattan</td>\n",
       "    </tr>\n",
       "  </tbody>\n",
       "</table>\n",
       "</div>"
      ],
      "text/plain": [
       "  tpep_pickup_datetime tpep_dropoff_datetime  passenger_count  trip_distance  \\\n",
       "0  2019-03-12 10:36:53   2019-03-12 10:49:17                1           1.40   \n",
       "1  2019-03-12 16:17:56   2019-03-12 16:45:18                2           3.90   \n",
       "2  2019-03-12 18:04:12   2019-03-12 18:24:22                2           1.25   \n",
       "3  2019-03-12 13:24:25   2019-03-12 13:35:43                1           1.45   \n",
       "4  2019-03-12 12:42:55   2019-03-12 12:50:46                1           1.53   \n",
       "\n",
       "   RatecodeID  PULocationID  DOLocationID  payment_type  tip_amount  \\\n",
       "0           1           237           161             1        2.46   \n",
       "1           1           261           234             1        2.00   \n",
       "2           1           230           141             1        3.46   \n",
       "3           1           114           234             2        0.00   \n",
       "4           1           143            48             1        1.00   \n",
       "\n",
       "   total_amount  weekday  pickup_hour  dropoff_hour  PUBorough  \n",
       "0         14.76  Tuesday           10            10  Manhattan  \n",
       "1         25.80  Tuesday           16            16  Manhattan  \n",
       "2         20.76  Tuesday           18            18  Manhattan  \n",
       "3         12.30  Tuesday           13            13  Manhattan  \n",
       "4         11.80  Tuesday           12            12  Manhattan  "
      ]
     },
     "execution_count": 13,
     "metadata": {},
     "output_type": "execute_result"
    }
   ],
   "source": [
    "df = pd.merge(df, df_PU, on='PULocationID', how='left')\n",
    "print(df.shape)\n",
    "df.head()"
   ]
  },
  {
   "cell_type": "code",
   "execution_count": 14,
   "metadata": {},
   "outputs": [
    {
     "name": "stdout",
     "output_type": "stream",
     "text": [
      "(43720476, 15)\n"
     ]
    },
    {
     "data": {
      "text/html": [
       "<div>\n",
       "<style scoped>\n",
       "    .dataframe tbody tr th:only-of-type {\n",
       "        vertical-align: middle;\n",
       "    }\n",
       "\n",
       "    .dataframe tbody tr th {\n",
       "        vertical-align: top;\n",
       "    }\n",
       "\n",
       "    .dataframe thead th {\n",
       "        text-align: right;\n",
       "    }\n",
       "</style>\n",
       "<table border=\"1\" class=\"dataframe\">\n",
       "  <thead>\n",
       "    <tr style=\"text-align: right;\">\n",
       "      <th></th>\n",
       "      <th>tpep_pickup_datetime</th>\n",
       "      <th>tpep_dropoff_datetime</th>\n",
       "      <th>passenger_count</th>\n",
       "      <th>trip_distance</th>\n",
       "      <th>RatecodeID</th>\n",
       "      <th>PULocationID</th>\n",
       "      <th>DOLocationID</th>\n",
       "      <th>payment_type</th>\n",
       "      <th>tip_amount</th>\n",
       "      <th>total_amount</th>\n",
       "      <th>weekday</th>\n",
       "      <th>pickup_hour</th>\n",
       "      <th>dropoff_hour</th>\n",
       "      <th>PUBorough</th>\n",
       "      <th>DOBorough</th>\n",
       "    </tr>\n",
       "  </thead>\n",
       "  <tbody>\n",
       "    <tr>\n",
       "      <th>0</th>\n",
       "      <td>2019-03-12 10:36:53</td>\n",
       "      <td>2019-03-12 10:49:17</td>\n",
       "      <td>1</td>\n",
       "      <td>1.40</td>\n",
       "      <td>1</td>\n",
       "      <td>237</td>\n",
       "      <td>161</td>\n",
       "      <td>1</td>\n",
       "      <td>2.46</td>\n",
       "      <td>14.76</td>\n",
       "      <td>Tuesday</td>\n",
       "      <td>10</td>\n",
       "      <td>10</td>\n",
       "      <td>Manhattan</td>\n",
       "      <td>Manhattan</td>\n",
       "    </tr>\n",
       "    <tr>\n",
       "      <th>1</th>\n",
       "      <td>2019-03-12 16:17:56</td>\n",
       "      <td>2019-03-12 16:45:18</td>\n",
       "      <td>2</td>\n",
       "      <td>3.90</td>\n",
       "      <td>1</td>\n",
       "      <td>261</td>\n",
       "      <td>234</td>\n",
       "      <td>1</td>\n",
       "      <td>2.00</td>\n",
       "      <td>25.80</td>\n",
       "      <td>Tuesday</td>\n",
       "      <td>16</td>\n",
       "      <td>16</td>\n",
       "      <td>Manhattan</td>\n",
       "      <td>Manhattan</td>\n",
       "    </tr>\n",
       "    <tr>\n",
       "      <th>2</th>\n",
       "      <td>2019-03-12 18:04:12</td>\n",
       "      <td>2019-03-12 18:24:22</td>\n",
       "      <td>2</td>\n",
       "      <td>1.25</td>\n",
       "      <td>1</td>\n",
       "      <td>230</td>\n",
       "      <td>141</td>\n",
       "      <td>1</td>\n",
       "      <td>3.46</td>\n",
       "      <td>20.76</td>\n",
       "      <td>Tuesday</td>\n",
       "      <td>18</td>\n",
       "      <td>18</td>\n",
       "      <td>Manhattan</td>\n",
       "      <td>Manhattan</td>\n",
       "    </tr>\n",
       "    <tr>\n",
       "      <th>3</th>\n",
       "      <td>2019-03-12 13:24:25</td>\n",
       "      <td>2019-03-12 13:35:43</td>\n",
       "      <td>1</td>\n",
       "      <td>1.45</td>\n",
       "      <td>1</td>\n",
       "      <td>114</td>\n",
       "      <td>234</td>\n",
       "      <td>2</td>\n",
       "      <td>0.00</td>\n",
       "      <td>12.30</td>\n",
       "      <td>Tuesday</td>\n",
       "      <td>13</td>\n",
       "      <td>13</td>\n",
       "      <td>Manhattan</td>\n",
       "      <td>Manhattan</td>\n",
       "    </tr>\n",
       "    <tr>\n",
       "      <th>4</th>\n",
       "      <td>2019-03-12 12:42:55</td>\n",
       "      <td>2019-03-12 12:50:46</td>\n",
       "      <td>1</td>\n",
       "      <td>1.53</td>\n",
       "      <td>1</td>\n",
       "      <td>143</td>\n",
       "      <td>48</td>\n",
       "      <td>1</td>\n",
       "      <td>1.00</td>\n",
       "      <td>11.80</td>\n",
       "      <td>Tuesday</td>\n",
       "      <td>12</td>\n",
       "      <td>12</td>\n",
       "      <td>Manhattan</td>\n",
       "      <td>Manhattan</td>\n",
       "    </tr>\n",
       "  </tbody>\n",
       "</table>\n",
       "</div>"
      ],
      "text/plain": [
       "  tpep_pickup_datetime tpep_dropoff_datetime  passenger_count  trip_distance  \\\n",
       "0  2019-03-12 10:36:53   2019-03-12 10:49:17                1           1.40   \n",
       "1  2019-03-12 16:17:56   2019-03-12 16:45:18                2           3.90   \n",
       "2  2019-03-12 18:04:12   2019-03-12 18:24:22                2           1.25   \n",
       "3  2019-03-12 13:24:25   2019-03-12 13:35:43                1           1.45   \n",
       "4  2019-03-12 12:42:55   2019-03-12 12:50:46                1           1.53   \n",
       "\n",
       "   RatecodeID  PULocationID  DOLocationID  payment_type  tip_amount  \\\n",
       "0           1           237           161             1        2.46   \n",
       "1           1           261           234             1        2.00   \n",
       "2           1           230           141             1        3.46   \n",
       "3           1           114           234             2        0.00   \n",
       "4           1           143            48             1        1.00   \n",
       "\n",
       "   total_amount  weekday  pickup_hour  dropoff_hour  PUBorough  DOBorough  \n",
       "0         14.76  Tuesday           10            10  Manhattan  Manhattan  \n",
       "1         25.80  Tuesday           16            16  Manhattan  Manhattan  \n",
       "2         20.76  Tuesday           18            18  Manhattan  Manhattan  \n",
       "3         12.30  Tuesday           13            13  Manhattan  Manhattan  \n",
       "4         11.80  Tuesday           12            12  Manhattan  Manhattan  "
      ]
     },
     "execution_count": 14,
     "metadata": {},
     "output_type": "execute_result"
    }
   ],
   "source": [
    "df = pd.merge(df, df_DO, on='DOLocationID', how='left')\n",
    "print(df.shape)\n",
    "df.head()"
   ]
  },
  {
   "cell_type": "code",
   "execution_count": 15,
   "metadata": {},
   "outputs": [
    {
     "name": "stdout",
     "output_type": "stream",
     "text": [
      "tpep_pickup_datetime     0\n",
      "tpep_dropoff_datetime    0\n",
      "passenger_count          0\n",
      "trip_distance            0\n",
      "RatecodeID               0\n",
      "PULocationID             0\n",
      "DOLocationID             0\n",
      "payment_type             0\n",
      "tip_amount               0\n",
      "total_amount             0\n",
      "weekday                  0\n",
      "pickup_hour              0\n",
      "dropoff_hour             0\n",
      "PUBorough                0\n",
      "DOBorough                0\n",
      "dtype: int64\n"
     ]
    }
   ],
   "source": [
    "print(df.isnull().sum())"
   ]
  },
  {
   "cell_type": "markdown",
   "metadata": {},
   "source": [
    "Now we have created a master dataframe."
   ]
  },
  {
   "cell_type": "markdown",
   "metadata": {},
   "source": [
    "## Exploratory Data Analysis\n",
    "**pandas** (using SQL queries) and **NumPy** are respectively used to fetch relevant data from the database using sql queries, and for crunching data. **matplotlib** and **Seaborn** are used for data visualization. We will try to answer following questions through EDA in this section.\n",
    "\n",
    "#### Does the number of passengers affect the fare?\n",
    "The passenger count provides information regarding the number of passengers travelling in a trip, whether people travel in group or do they travel alone. And the passenger count is correlated to the total fare (per group). Through this question we find out, whether the yellow cab profits most from people travelling individually or in a group."
   ]
  },
  {
   "cell_type": "code",
   "execution_count": 35,
   "metadata": {},
   "outputs": [
    {
     "data": {
      "image/png": "[encoded data removed]",
      "text/plain": [
       "<Figure size 1008x504 with 1 Axes>"
      ]
     },
     "metadata": {},
     "output_type": "display_data"
    }
   ],
   "source": [
    "df_pc = pd.read_sql_query('SELECT passenger_count, SUM(total_amount) AS total, count(*) AS PCount FROM nyc_records GROUP BY passenger_count', engine)\n",
    "\n",
    "plt.figure(figsize=(14, 7))\n",
    "plt.bar(df_pc['passenger_count'], df_pc['total'], color='#40B0A6')\n",
    "plt.xlabel(\"Number of Passengers\")\n",
    "plt.ylabel(\"Total Fare\")\n",
    "plt.title(\"Total Fare vs No.of passengers\")\n",
    "plt.show()"
   ]
  },
  {
   "cell_type": "code",
   "execution_count": 28,
   "metadata": {},
   "outputs": [
    {
     "data": {
      "image/png": "[encoded data removed]",
      "text/plain": [
       "<Figure size 1080x504 with 1 Axes>"
      ]
     },
     "metadata": {},
     "output_type": "display_data"
    }
   ],
   "source": [
    "plt.figure(figsize=(15,7))\n",
    "plt.scatter(x=df['passenger_count'], y=df['total_amount'], s=1.5, color=\"#40B0A6\")\n",
    "plt.title(\"Fare vs No.of passengers\")\n",
    "plt.xlabel('No.of passengers')\n",
    "plt.ylabel('Fare')\n",
    "plt.show()"
   ]
  },
  {
   "cell_type": "markdown",
   "metadata": {},
   "source": [
    "- As seen from the above plots, we can see that single passengers are the most frequent travellers followed by two passenger and thus yellow taxis profits from cabs that carry just 1 passenger. This is intersting, there are lot of variations in fare based on no.of passengers.\n",
    "\n",
    "#### Does the hour of the day affect the fare?\n",
    "This question helps in understanding the demand of yellow taxis on hourly basis. We will use pickup hour"
   ]
  },
  {
   "cell_type": "code",
   "execution_count": 20,
   "metadata": {},
   "outputs": [
    {
     "data": {
      "image/png": "[encoded data removed]",
      "text/plain": [
       "<Figure size 1008x504 with 1 Axes>"
      ]
     },
     "metadata": {},
     "output_type": "display_data"
    }
   ],
   "source": [
    "df_ph = pd.read_sql_query('SELECT pickup_hour, SUM(total_amount) AS total, count(pickup_hour) AS phcount FROM nyc_records \\\n",
    "                                GROUP BY pickup_hour', engine)\n",
    "df_dh = pd.read_sql_query('SELECT dropoff_hour, SUM(total_amount) AS total, count(dropoff_hour) AS phcount FROM nyc_records \\\n",
    "                                GROUP BY dropoff_hour', engine)\n",
    "\n",
    "hr = np.arange(0,25,1)\n",
    "plt.figure(figsize=(14, 7))\n",
    "plt.plot(df_ph['pickup_hour'], df_ph['total'], color='#F08080', linestyle='-', marker='o')\n",
    "plt.plot(df_dh['dropoff_hour'], df_dh['total'], color='b', linestyle='-', marker='o')\n",
    "plt.xticks(hr)\n",
    "plt.xlabel(\"Hours in day\")\n",
    "plt.ylabel(\"Total Fare\")\n",
    "plt.title(\"Total fare vs Pickup Hours\")\n",
    "plt.show()"
   ]
  },
  {
   "cell_type": "markdown",
   "metadata": {},
   "source": [
    "This is interesting! Time of the day definetly play an important role! The demand of taxis increases during evening hours. The fare seems to be increasing from **5 AM** to **9 AM** and from **4 PM** to **6 PM**. However, we see that for both pickup_hours and dropoff_hours the plot is almost the same. Hence, we will use only the pickup_hours for our analysis to avoid redundancy.\n",
    "\n",
    "#### Does the day of the week affect the fare?\n",
    "As lot of passengers travel via taxi, this question will help to understand the demand, yellow taxis have on a daily basis."
   ]
  },
  {
   "cell_type": "code",
   "execution_count": 22,
   "metadata": {},
   "outputs": [
    {
     "data": {
      "image/png": "[encoded data removed]",
      "text/plain": [
       "<Figure size 1008x504 with 1 Axes>"
      ]
     },
     "metadata": {},
     "output_type": "display_data"
    }
   ],
   "source": [
    "df_day = pd.read_sql_query('SELECT weekday, SUM(total_amount) AS total, count(weekday) AS wcount FROM nyc_records \\\n",
    "                                GROUP BY weekday', engine)\n",
    "\n",
    "plt.figure(figsize=(14, 7))\n",
    "plt.bar(df_day['weekday'], df_day['total'], color='#5DADE2')\n",
    "plt.xlabel(\"Day of a week\")\n",
    "plt.ylabel(\"Total Fare\")\n",
    "plt.title(\"Total fare vs Day of the week\")\n",
    "plt.show()"
   ]
  },
  {
   "cell_type": "markdown",
   "metadata": {},
   "source": [
    "- People travel most on Friday and Thurday and least on Monday and Sunday.\n",
    "\n",
    "#### Change in fare_amount based on Day of the week and Hours "
   ]
  },
  {
   "cell_type": "code",
   "execution_count": 24,
   "metadata": {},
   "outputs": [
    {
     "data": {
      "image/png": "[encoded data removed]",
      "text/plain": [
       "<Figure size 576x396 with 2 Axes>"
      ]
     },
     "metadata": {},
     "output_type": "display_data"
    }
   ],
   "source": [
    "tc = df.pivot_table(index='weekday', columns='pickup_hour', values='total_amount')\n",
    "k = ['Monday','Tuesday','Wednesday','Thursday','Friday','Saturday','Sunday']\n",
    "tc = tc.reindex(index=k)\n",
    "heat_map = sns.heatmap(data = tc, cmap=\"magma_r\")\n",
    "var = heat_map.set_yticklabels(heat_map.get_yticklabels(), rotation=0)"
   ]
  },
  {
   "cell_type": "markdown",
   "metadata": {},
   "source": [
    "Heatmap is an interesting way to visualize the data. The above plotted heatmap shows the reltion between Hours, weekdays and taxi fare.\n",
    "\n",
    "#### Does payment types has any effect  on fare?\n",
    "I'm sure most of the payment is done using debit/credit cards, however, it always wise to explore the data as you never know what hidden information is lying in the data."
   ]
  },
  {
   "cell_type": "code",
   "execution_count": 41,
   "metadata": {
    "scrolled": false
   },
   "outputs": [
    {
     "data": {
      "image/png": "[encoded data removed]",
      "text/plain": [
       "<Waffle size 576x396 with 1 Axes>"
      ]
     },
     "metadata": {},
     "output_type": "display_data"
    }
   ],
   "source": [
    "from pywaffle import Waffle\n",
    "\n",
    "df_pt = pd.read_sql_query('SELECT payment_type, SUM(total_amount) AS total, count(payment_type) AS PTCount FROM \\\n",
    "                                  nyc_records WHERE payment_type BETWEEN 1 AND 4 GROUP BY payment_type', engine)\n",
    "\n",
    "# Converting the counts into percentage for the convenience of interpreting\n",
    "ls = np.array([df_pt['PTCount'][0], df_pt['PTCount'][1], df_pt['PTCount'][2], df_pt['PTCount'][3]])\n",
    "total = np.sum(ls)\n",
    "ls = ls/total\n",
    "ls = np.round(ls * 100, 3)\n",
    "\n",
    "data = {'Card': ls[0], 'Cash': ls[1], 'No Charge': ls[2], 'Dispute': ls[3]}\n",
    "plt.figure(\n",
    "    FigureClass=Waffle,\n",
    "    rows=5,\n",
    "    columns=10,\n",
    "    values=[df_pt['PTCount'][0], df_pt['PTCount'][1], df_pt['PTCount'][2], df_pt['PTCount'][3]],\n",
    "    colors=[\"#5DADE2\", \"#F1948A\", \"#48C9B0\", \"#F8C471\"],\n",
    "    title={\n",
    "        'label': 'Example plot', 'loc': 'center',\n",
    "        'fontdict': {'fontsize': 20} },\n",
    "    labels=[\"{0} ({1}%)\".format(k, v) for k, v in data.items()],\n",
    "    legend={ 'loc': 'upper left', 'bbox_to_anchor': (1.1, 1), 'fontsize': 12 },\n",
    "    rounding_rule='floor'\n",
    ")\n",
    "plt.title(\"1=Credit Card  2=Cash  3=No Charge  4=Dispute\")\n",
    "plt.show()"
   ]
  },
  {
   "cell_type": "markdown",
   "metadata": {},
   "source": [
    "Payement method doesn't seem to have that much of an influence on the number of cab rides as most of the payment is done through cards."
   ]
  },
  {
   "cell_type": "markdown",
   "metadata": {},
   "source": [
    "#### Does trip distance has any effect  on fare?"
   ]
  },
  {
   "cell_type": "code",
   "execution_count": 38,
   "metadata": {
    "scrolled": false
   },
   "outputs": [
    {
     "name": "stdout",
     "output_type": "stream",
     "text": [
      "43720476\n"
     ]
    }
   ],
   "source": [
    "bins_0 = df.loc[(df['trip_distance'] == 0), ['trip_distance']]\n",
    "bins_1 = df.loc[(df['trip_distance'] > 0) & (df['trip_distance'] <= 5),['trip_distance']]\n",
    "bins_2 = df.loc[(df['trip_distance'] > 5) & (df['trip_distance'] <= 10),['trip_distance']]\n",
    "bins_3 = df.loc[(df['trip_distance'] > 10) & (df['trip_distance'] <= 20),['trip_distance']]\n",
    "bins_4 = df.loc[(df['trip_distance'] > 20) & (df['trip_distance'] <= 30),['trip_distance']]\n",
    "bins_5 = df.loc[(df['trip_distance'] > 30) & (df['trip_distance'] <= 50),['trip_distance']]\n",
    "bins_6 = df.loc[(df['trip_distance'] > 50),['trip_distance']]\n",
    "bins_0['bins'] = '0'\n",
    "bins_1['bins'] = '0-5'\n",
    "bins_2['bins'] = '6-10'\n",
    "bins_3['bins'] = '11-20'\n",
    "bins_4['bins'] = '21-30'\n",
    "bins_5['bins'] = '31-50'\n",
    "bins_6['bins'] = '>50'\n",
    "dist_bins =pd.concat([bins_0,bins_1,bins_2,bins_3,bins_4,bins_5,bins_6])\n",
    "print(len(dist_bins))\n",
    "# dist_bins.head(10)"
   ]
  },
  {
   "cell_type": "code",
   "execution_count": 39,
   "metadata": {},
   "outputs": [],
   "source": [
    "test = dist_bins.groupby('bins').count()\n",
    "xt = ['0','0-5','6-10','11-20','21-30','31-50','>50']"
   ]
  },
  {
   "cell_type": "code",
   "execution_count": 40,
   "metadata": {},
   "outputs": [
    {
     "data": {
      "image/png": "[encoded data removed]",
      "text/plain": [
       "<Figure size 1008x504 with 1 Axes>"
      ]
     },
     "metadata": {},
     "output_type": "display_data"
    }
   ],
   "source": [
    "plt.figure(figsize=(14, 7))\n",
    "plt.bar(xt, test['trip_distance'], color='#5DADE2')\n",
    "plt.xlabel(\"Distance (Km)\")\n",
    "plt.ylabel(\"Count\")\n",
    "plt.show()"
   ]
  },
  {
   "cell_type": "markdown",
   "metadata": {},
   "source": [
    "As we can see most of the trips are for 0 to 5 km. Since trip distance determines the fare we should keep it in our analysis.\n",
    "\n",
    "#### How does fare changes based on pickup and dropoffs at a particular Borough\n",
    "\n",
    "We have a **boroughs** column. New York City is composed of five boroughs: The Bronx, Brooklyn, Manhattan, Queens, and Staten Island. Let us see how are the fares for each of the boroughs."
   ]
  },
  {
   "cell_type": "code",
   "execution_count": 17,
   "metadata": {},
   "outputs": [
    {
     "data": {
      "text/plain": [
       "Text(0, 0.5, 'Fare')"
      ]
     },
     "execution_count": 17,
     "metadata": {},
     "output_type": "execute_result"
    },
    {
     "data": {
      "image/png": "[encoded data removed]",
      "text/plain": [
       "<Figure size 1080x504 with 1 Axes>"
      ]
     },
     "metadata": {},
     "output_type": "display_data"
    }
   ],
   "source": [
    "plt.figure(figsize=(15,7))\n",
    "plt.scatter(x=df['PUBorough'], y=df['total_amount'], s=1.5)\n",
    "plt.title(\"Fare vs PUBorough\")\n",
    "plt.xlabel('Borough')\n",
    "plt.ylabel('Fare')"
   ]
  },
  {
   "cell_type": "code",
   "execution_count": 23,
   "metadata": {},
   "outputs": [
    {
     "data": {
      "image/png": "[encoded data removed]",
      "text/plain": [
       "<Figure size 1080x504 with 1 Axes>"
      ]
     },
     "metadata": {},
     "output_type": "display_data"
    }
   ],
   "source": [
    "plt.figure(figsize=(15,7))\n",
    "plt.scatter(x=df['DOBorough'], y=df['total_amount'], s=1.5)\n",
    "plt.title(\"Fare vs DOBorough\")\n",
    "plt.xlabel('Borough')\n",
    "plt.ylabel('Fare')\n",
    "plt.show()"
   ]
  },
  {
   "cell_type": "markdown",
   "metadata": {},
   "source": [
    "Both the plots looks almost the same. We will use just PULocationID as we don't want to use redudant variables."
   ]
  },
  {
   "cell_type": "code",
   "execution_count": 29,
   "metadata": {},
   "outputs": [
    {
     "data": {
      "image/png": "[encoded data removed]",
      "text/plain": [
       "<Figure size 1008x504 with 1 Axes>"
      ]
     },
     "metadata": {},
     "output_type": "display_data"
    }
   ],
   "source": [
    "df_pid = pd.read_sql_query('SELECT PULocationID, count(PULocationID) AS PIDcount FROM nyc_records \\\n",
    "                                GROUP BY PULocationID', engine)\n",
    "\n",
    "plt.figure(figsize=(14, 7))\n",
    "plt.bar(df_pid['PULocationID'], df_pid['PIDcount'], color='#70E424')\n",
    "plt.xlabel(\"Pickup Location ID\")\n",
    "plt.ylabel(\"Count/Frequency\")\n",
    "plt.title(\"frequency pickup at a particular Location\")\n",
    "plt.show()"
   ]
  },
  {
   "cell_type": "code",
   "execution_count": 30,
   "metadata": {},
   "outputs": [
    {
     "data": {
      "image/png": "[encoded data removed]",
      "text/plain": [
       "<Figure size 1080x504 with 1 Axes>"
      ]
     },
     "metadata": {},
     "output_type": "display_data"
    }
   ],
   "source": [
    "plt.figure(figsize=(15,7))\n",
    "plt.scatter(x=df['PULocationID'], y=df['total_amount'], s=1.5, color='#70E424')\n",
    "plt.title(\"Fare vs PULocationID\")\n",
    "plt.xlabel('Pickup Location ID')\n",
    "plt.ylabel('Fare')\n",
    "plt.show()"
   ]
  },
  {
   "cell_type": "code",
   "execution_count": 31,
   "metadata": {},
   "outputs": [
    {
     "data": {
      "image/png": "[encoded data removed]",
      "text/plain": [
       "<Figure size 1008x504 with 1 Axes>"
      ]
     },
     "metadata": {},
     "output_type": "display_data"
    }
   ],
   "source": [
    "df_did = pd.read_sql_query('SELECT DOLocationID, count(DOLocationID) AS DIDcount FROM nyc_records \\\n",
    "                                GROUP BY DOLocationID', engine)\n",
    "\n",
    "plt.figure(figsize=(14, 7))\n",
    "plt.bar(df_did['DOLocationID'], df_did['DIDcount'], color='#F1B107')\n",
    "plt.xlabel(\"Dropoff Location ID\")\n",
    "plt.ylabel(\"Count/Frequency\")\n",
    "plt.title(\"frequency dropoffs at a particular Location\")\n",
    "plt.show()"
   ]
  },
  {
   "cell_type": "code",
   "execution_count": 32,
   "metadata": {},
   "outputs": [
    {
     "data": {
      "image/png": "[encoded data removed]",
      "text/plain": [
       "<Figure size 1080x504 with 1 Axes>"
      ]
     },
     "metadata": {},
     "output_type": "display_data"
    }
   ],
   "source": [
    "plt.figure(figsize=(15,7))\n",
    "plt.scatter(x=df['DOLocationID'], y=df['total_amount'], s=1.5, color='#F1B107')\n",
    "plt.title(\"Fare vs DOLocationID\")\n",
    "plt.xlabel('dropoff Location ID')\n",
    "plt.ylabel('Fare')\n",
    "plt.show()"
   ]
  },
  {
   "cell_type": "markdown",
   "metadata": {},
   "source": [
    "#### How is the distribution of the total fare?\n",
    "We look at the distribution of the total_amount, the target variables we want to train a model to predict."
   ]
  },
  {
   "cell_type": "code",
   "execution_count": 38,
   "metadata": {},
   "outputs": [
    {
     "data": {
      "text/plain": [
       "Text(0.5, 0, 'Total fare')"
      ]
     },
     "execution_count": 38,
     "metadata": {},
     "output_type": "execute_result"
    },
    {
     "data": {
      "image/png": "[encoded data removed]",
      "text/plain": [
       "<Figure size 1008x504 with 1 Axes>"
      ]
     },
     "metadata": {},
     "output_type": "display_data"
    }
   ],
   "source": [
    "plt.figure(figsize=(14, 7))\n",
    "sns.distplot(df['total_amount'], color = 'darkblue');\n",
    "plt.title('Distribution of Fare');\n",
    "plt.xlabel(\"Total fare\")"
   ]
  },
  {
   "cell_type": "markdown",
   "metadata": {},
   "source": [
    "It can be seen from the above plot that both the data is right skewed. Thus we apply transformation on the data. Most commonly used transformation is **Log transformation**."
   ]
  },
  {
   "cell_type": "code",
   "execution_count": 16,
   "metadata": {},
   "outputs": [],
   "source": [
    "df['log_total_amount'] = np.log1p(df['total_amount'])"
   ]
  },
  {
   "cell_type": "code",
   "execution_count": 40,
   "metadata": {},
   "outputs": [
    {
     "data": {
      "text/plain": [
       "Text(0.5, 0, 'loig(Total fare)')"
      ]
     },
     "execution_count": 40,
     "metadata": {},
     "output_type": "execute_result"
    },
    {
     "data": {
      "image/png": "[encoded data removed]",
      "text/plain": [
       "<Figure size 1008x504 with 1 Axes>"
      ]
     },
     "metadata": {},
     "output_type": "display_data"
    }
   ],
   "source": [
    "plt.figure(figsize=(14, 7))\n",
    "sns.distplot(df['log_total_amount'], color='darkblue');\n",
    "plt.title('Distribution of log(Fare)');\n",
    "plt.xlabel(\"loig(Total fare)\")"
   ]
  },
  {
   "cell_type": "markdown",
   "metadata": {},
   "source": [
    "## Predictive Analysis\n",
    "Here we are going to use gradient boosting method: XGBoost along with gridSearchCV for parameter selection. Let's select the predictors from features, since we should not consider all features for training our model. However, Before we move on, we have to convert Weekday and PUBorough into numeric form."
   ]
  },
  {
   "cell_type": "code",
   "execution_count": 17,
   "metadata": {},
   "outputs": [],
   "source": [
    "df['weekday'] = df['weekday'].astype('category')\n",
    "df['weekday'] = df['weekday'].cat.codes\n",
    "\n",
    "df['PUBorough'] = df['PUBorough'].astype('category')\n",
    "df['PUBorough'] = df['PUBorough'].cat.codes"
   ]
  },
  {
   "cell_type": "code",
   "execution_count": 18,
   "metadata": {},
   "outputs": [
    {
     "data": {
      "text/html": [
       "<div>\n",
       "<style scoped>\n",
       "    .dataframe tbody tr th:only-of-type {\n",
       "        vertical-align: middle;\n",
       "    }\n",
       "\n",
       "    .dataframe tbody tr th {\n",
       "        vertical-align: top;\n",
       "    }\n",
       "\n",
       "    .dataframe thead th {\n",
       "        text-align: right;\n",
       "    }\n",
       "</style>\n",
       "<table border=\"1\" class=\"dataframe\">\n",
       "  <thead>\n",
       "    <tr style=\"text-align: right;\">\n",
       "      <th></th>\n",
       "      <th>tpep_pickup_datetime</th>\n",
       "      <th>tpep_dropoff_datetime</th>\n",
       "      <th>passenger_count</th>\n",
       "      <th>trip_distance</th>\n",
       "      <th>RatecodeID</th>\n",
       "      <th>PULocationID</th>\n",
       "      <th>DOLocationID</th>\n",
       "      <th>payment_type</th>\n",
       "      <th>tip_amount</th>\n",
       "      <th>total_amount</th>\n",
       "      <th>weekday</th>\n",
       "      <th>pickup_hour</th>\n",
       "      <th>dropoff_hour</th>\n",
       "      <th>PUBorough</th>\n",
       "      <th>DOBorough</th>\n",
       "      <th>log_total_amount</th>\n",
       "    </tr>\n",
       "  </thead>\n",
       "  <tbody>\n",
       "    <tr>\n",
       "      <th>0</th>\n",
       "      <td>2019-03-12 10:36:53</td>\n",
       "      <td>2019-03-12 10:49:17</td>\n",
       "      <td>1</td>\n",
       "      <td>1.40</td>\n",
       "      <td>1</td>\n",
       "      <td>237</td>\n",
       "      <td>161</td>\n",
       "      <td>1</td>\n",
       "      <td>2.46</td>\n",
       "      <td>14.76</td>\n",
       "      <td>5</td>\n",
       "      <td>10</td>\n",
       "      <td>10</td>\n",
       "      <td>3</td>\n",
       "      <td>Manhattan</td>\n",
       "      <td>2.757475</td>\n",
       "    </tr>\n",
       "    <tr>\n",
       "      <th>1</th>\n",
       "      <td>2019-03-12 16:17:56</td>\n",
       "      <td>2019-03-12 16:45:18</td>\n",
       "      <td>2</td>\n",
       "      <td>3.90</td>\n",
       "      <td>1</td>\n",
       "      <td>261</td>\n",
       "      <td>234</td>\n",
       "      <td>1</td>\n",
       "      <td>2.00</td>\n",
       "      <td>25.80</td>\n",
       "      <td>5</td>\n",
       "      <td>16</td>\n",
       "      <td>16</td>\n",
       "      <td>3</td>\n",
       "      <td>Manhattan</td>\n",
       "      <td>3.288402</td>\n",
       "    </tr>\n",
       "    <tr>\n",
       "      <th>2</th>\n",
       "      <td>2019-03-12 18:04:12</td>\n",
       "      <td>2019-03-12 18:24:22</td>\n",
       "      <td>2</td>\n",
       "      <td>1.25</td>\n",
       "      <td>1</td>\n",
       "      <td>230</td>\n",
       "      <td>141</td>\n",
       "      <td>1</td>\n",
       "      <td>3.46</td>\n",
       "      <td>20.76</td>\n",
       "      <td>5</td>\n",
       "      <td>18</td>\n",
       "      <td>18</td>\n",
       "      <td>3</td>\n",
       "      <td>Manhattan</td>\n",
       "      <td>3.080073</td>\n",
       "    </tr>\n",
       "    <tr>\n",
       "      <th>3</th>\n",
       "      <td>2019-03-12 13:24:25</td>\n",
       "      <td>2019-03-12 13:35:43</td>\n",
       "      <td>1</td>\n",
       "      <td>1.45</td>\n",
       "      <td>1</td>\n",
       "      <td>114</td>\n",
       "      <td>234</td>\n",
       "      <td>2</td>\n",
       "      <td>0.00</td>\n",
       "      <td>12.30</td>\n",
       "      <td>5</td>\n",
       "      <td>13</td>\n",
       "      <td>13</td>\n",
       "      <td>3</td>\n",
       "      <td>Manhattan</td>\n",
       "      <td>2.587764</td>\n",
       "    </tr>\n",
       "    <tr>\n",
       "      <th>4</th>\n",
       "      <td>2019-03-12 12:42:55</td>\n",
       "      <td>2019-03-12 12:50:46</td>\n",
       "      <td>1</td>\n",
       "      <td>1.53</td>\n",
       "      <td>1</td>\n",
       "      <td>143</td>\n",
       "      <td>48</td>\n",
       "      <td>1</td>\n",
       "      <td>1.00</td>\n",
       "      <td>11.80</td>\n",
       "      <td>5</td>\n",
       "      <td>12</td>\n",
       "      <td>12</td>\n",
       "      <td>3</td>\n",
       "      <td>Manhattan</td>\n",
       "      <td>2.549445</td>\n",
       "    </tr>\n",
       "  </tbody>\n",
       "</table>\n",
       "</div>"
      ],
      "text/plain": [
       "  tpep_pickup_datetime tpep_dropoff_datetime  passenger_count  trip_distance  \\\n",
       "0  2019-03-12 10:36:53   2019-03-12 10:49:17                1           1.40   \n",
       "1  2019-03-12 16:17:56   2019-03-12 16:45:18                2           3.90   \n",
       "2  2019-03-12 18:04:12   2019-03-12 18:24:22                2           1.25   \n",
       "3  2019-03-12 13:24:25   2019-03-12 13:35:43                1           1.45   \n",
       "4  2019-03-12 12:42:55   2019-03-12 12:50:46                1           1.53   \n",
       "\n",
       "   RatecodeID  PULocationID  DOLocationID  payment_type  tip_amount  \\\n",
       "0           1           237           161             1        2.46   \n",
       "1           1           261           234             1        2.00   \n",
       "2           1           230           141             1        3.46   \n",
       "3           1           114           234             2        0.00   \n",
       "4           1           143            48             1        1.00   \n",
       "\n",
       "   total_amount  weekday  pickup_hour  dropoff_hour  PUBorough  DOBorough  \\\n",
       "0         14.76        5           10            10          3  Manhattan   \n",
       "1         25.80        5           16            16          3  Manhattan   \n",
       "2         20.76        5           18            18          3  Manhattan   \n",
       "3         12.30        5           13            13          3  Manhattan   \n",
       "4         11.80        5           12            12          3  Manhattan   \n",
       "\n",
       "   log_total_amount  \n",
       "0          2.757475  \n",
       "1          3.288402  \n",
       "2          3.080073  \n",
       "3          2.587764  \n",
       "4          2.549445  "
      ]
     },
     "execution_count": 18,
     "metadata": {},
     "output_type": "execute_result"
    }
   ],
   "source": [
    "df.head()"
   ]
  },
  {
   "cell_type": "markdown",
   "metadata": {},
   "source": [
    "Now before we move ahead and split the data into train-test sets, it is important to know that we need to shuffle the dataframe. our data is in temporal order, and spliting the data without shuffling might cause the machine learning model to learn dependencies amongst the data resulting in poor performance. Hence, when we first create the master dataframe, we random shuffled both the dataframe before appending to the list and the list itself once all the chunck dataframes had been appended."
   ]
  },
  {
   "cell_type": "code",
   "execution_count": 19,
   "metadata": {},
   "outputs": [
    {
     "name": "stdout",
     "output_type": "stream",
     "text": [
      "43720476\n"
     ]
    },
    {
     "data": {
      "text/html": [
       "<div>\n",
       "<style scoped>\n",
       "    .dataframe tbody tr th:only-of-type {\n",
       "        vertical-align: middle;\n",
       "    }\n",
       "\n",
       "    .dataframe tbody tr th {\n",
       "        vertical-align: top;\n",
       "    }\n",
       "\n",
       "    .dataframe thead th {\n",
       "        text-align: right;\n",
       "    }\n",
       "</style>\n",
       "<table border=\"1\" class=\"dataframe\">\n",
       "  <thead>\n",
       "    <tr style=\"text-align: right;\">\n",
       "      <th></th>\n",
       "      <th>pickup_hour</th>\n",
       "      <th>passenger_count</th>\n",
       "      <th>trip_distance</th>\n",
       "      <th>weekday</th>\n",
       "      <th>PUBorough</th>\n",
       "      <th>PULocationID</th>\n",
       "    </tr>\n",
       "  </thead>\n",
       "  <tbody>\n",
       "    <tr>\n",
       "      <th>0</th>\n",
       "      <td>10</td>\n",
       "      <td>1</td>\n",
       "      <td>1.40</td>\n",
       "      <td>5</td>\n",
       "      <td>3</td>\n",
       "      <td>237</td>\n",
       "    </tr>\n",
       "    <tr>\n",
       "      <th>1</th>\n",
       "      <td>16</td>\n",
       "      <td>2</td>\n",
       "      <td>3.90</td>\n",
       "      <td>5</td>\n",
       "      <td>3</td>\n",
       "      <td>261</td>\n",
       "    </tr>\n",
       "    <tr>\n",
       "      <th>2</th>\n",
       "      <td>18</td>\n",
       "      <td>2</td>\n",
       "      <td>1.25</td>\n",
       "      <td>5</td>\n",
       "      <td>3</td>\n",
       "      <td>230</td>\n",
       "    </tr>\n",
       "    <tr>\n",
       "      <th>3</th>\n",
       "      <td>13</td>\n",
       "      <td>1</td>\n",
       "      <td>1.45</td>\n",
       "      <td>5</td>\n",
       "      <td>3</td>\n",
       "      <td>114</td>\n",
       "    </tr>\n",
       "    <tr>\n",
       "      <th>4</th>\n",
       "      <td>12</td>\n",
       "      <td>1</td>\n",
       "      <td>1.53</td>\n",
       "      <td>5</td>\n",
       "      <td>3</td>\n",
       "      <td>143</td>\n",
       "    </tr>\n",
       "  </tbody>\n",
       "</table>\n",
       "</div>"
      ],
      "text/plain": [
       "   pickup_hour  passenger_count  trip_distance  weekday  PUBorough  \\\n",
       "0           10                1           1.40        5          3   \n",
       "1           16                2           3.90        5          3   \n",
       "2           18                2           1.25        5          3   \n",
       "3           13                1           1.45        5          3   \n",
       "4           12                1           1.53        5          3   \n",
       "\n",
       "   PULocationID  \n",
       "0           237  \n",
       "1           261  \n",
       "2           230  \n",
       "3           114  \n",
       "4           143  "
      ]
     },
     "execution_count": 19,
     "metadata": {},
     "output_type": "execute_result"
    }
   ],
   "source": [
    "selected_predictors = ['pickup_hour', 'passenger_count', 'trip_distance', 'weekday', 'PUBorough', 'PULocationID']\n",
    "df_X = df[selected_predictors]\n",
    "print(len(df_X))\n",
    "df_X.head()"
   ]
  },
  {
   "cell_type": "code",
   "execution_count": 20,
   "metadata": {},
   "outputs": [
    {
     "name": "stdout",
     "output_type": "stream",
     "text": [
      "43720476\n"
     ]
    },
    {
     "data": {
      "text/html": [
       "<div>\n",
       "<style scoped>\n",
       "    .dataframe tbody tr th:only-of-type {\n",
       "        vertical-align: middle;\n",
       "    }\n",
       "\n",
       "    .dataframe tbody tr th {\n",
       "        vertical-align: top;\n",
       "    }\n",
       "\n",
       "    .dataframe thead th {\n",
       "        text-align: right;\n",
       "    }\n",
       "</style>\n",
       "<table border=\"1\" class=\"dataframe\">\n",
       "  <thead>\n",
       "    <tr style=\"text-align: right;\">\n",
       "      <th></th>\n",
       "      <th>log_total_amount</th>\n",
       "    </tr>\n",
       "  </thead>\n",
       "  <tbody>\n",
       "    <tr>\n",
       "      <th>0</th>\n",
       "      <td>2.757475</td>\n",
       "    </tr>\n",
       "    <tr>\n",
       "      <th>1</th>\n",
       "      <td>3.288402</td>\n",
       "    </tr>\n",
       "    <tr>\n",
       "      <th>2</th>\n",
       "      <td>3.080073</td>\n",
       "    </tr>\n",
       "    <tr>\n",
       "      <th>3</th>\n",
       "      <td>2.587764</td>\n",
       "    </tr>\n",
       "    <tr>\n",
       "      <th>4</th>\n",
       "      <td>2.549445</td>\n",
       "    </tr>\n",
       "  </tbody>\n",
       "</table>\n",
       "</div>"
      ],
      "text/plain": [
       "   log_total_amount\n",
       "0          2.757475\n",
       "1          3.288402\n",
       "2          3.080073\n",
       "3          2.587764\n",
       "4          2.549445"
      ]
     },
     "execution_count": 20,
     "metadata": {},
     "output_type": "execute_result"
    }
   ],
   "source": [
    "df_Y = df[['log_total_amount']]\n",
    "print(len(df_Y))\n",
    "df_Y.head()"
   ]
  },
  {
   "cell_type": "markdown",
   "metadata": {},
   "source": [
    "#### XGBoost"
   ]
  },
  {
   "cell_type": "code",
   "execution_count": 21,
   "metadata": {},
   "outputs": [],
   "source": [
    "from xgboost import XGBRegressor\n",
    "import lightgbm as lgb\n",
    "from sklearn.model_selection import train_test_split, GridSearchCV\n",
    "from sklearn.metrics import mean_squared_error\n",
    "from math import sqrt"
   ]
  },
  {
   "cell_type": "code",
   "execution_count": 22,
   "metadata": {},
   "outputs": [],
   "source": [
    "X = df_X.loc[:, selected_predictors].values\n",
    "y = df_Y.log_total_amount.values\n",
    "X_train, X_test, y_train, y_test = train_test_split(X, y, test_size=1/20)"
   ]
  },
  {
   "cell_type": "code",
   "execution_count": 23,
   "metadata": {},
   "outputs": [
    {
     "name": "stdout",
     "output_type": "stream",
     "text": [
      "41534452\n",
      "2186024\n",
      "41534452\n",
      "2186024\n"
     ]
    }
   ],
   "source": [
    "print(len(X_train))\n",
    "print(len(X_test))\n",
    "print(len(y_train))\n",
    "print(len(y_test))"
   ]
  },
  {
   "cell_type": "markdown",
   "metadata": {},
   "source": [
    "I'll use **GridSearchCV** with cross-validation for best parameter selection in XGBoost. We are going to provide three parameter sets **learning_rate**, **max_depth** & **n_estimators**, so that we can re-train this models with new best fit parameters. Executing the below code for finding the best parameters takes a lot of time and hence, I'll use oly first 1000000 records"
   ]
  },
  {
   "cell_type": "code",
   "execution_count": 32,
   "metadata": {},
   "outputs": [],
   "source": [
    "parameters = {\n",
    "                'learning_rate': [0.3, 0.1, 0.5],\n",
    "                'max_depth': [4, 5, 6, 7, 8],\n",
    "                'n_estimators': [300, 400, 450, 500]\n",
    "            }\n",
    "\n",
    "XGB_hyper_params = GridSearchCV(estimator=XGBRegressor(objective ='reg:squarederror'), param_grid=parameters, n_jobs=-1, cv=5)"
   ]
  },
  {
   "cell_type": "code",
   "execution_count": 33,
   "metadata": {},
   "outputs": [
    {
     "data": {
      "text/plain": [
       "{'learning_rate': 0.1, 'max_depth': 5, 'n_estimators': 400}"
      ]
     },
     "execution_count": 33,
     "metadata": {},
     "output_type": "execute_result"
    }
   ],
   "source": [
    "XGB_hyper_params.fit(X_train[:500000], y_train[:500000])\n",
    "# find out the best hyper parameters\n",
    "XGB_hyper_params.best_params_"
   ]
  },
  {
   "cell_type": "code",
   "execution_count": 24,
   "metadata": {},
   "outputs": [
    {
     "name": "stdout",
     "output_type": "stream",
     "text": [
      "[02:59:08] WARNING: C:\\Users\\Administrator\\workspace\\xgboost-win64_release_1.1.0\\src\\gbm\\gbtree.cc:139: Tree method is automatically selected to be 'approx' for faster speed. To use old behavior (exact greedy algorithm on single machine), set tree_method to 'exact'.\n",
      "XGBoost Mean Squared Error: 5.072769370465672\n"
     ]
    }
   ],
   "source": [
    "XGB_model = XGBRegressor(learning_rate=0.1, max_depth=5, n_estimators=400)\n",
    "XGB_model.fit(X_train, y_train)\n",
    "y_XGB_predict = XGB_model.predict(X_test)\n",
    "\n",
    "XGB_model_error = sqrt(mean_squared_error(np.expm1(y_test), np.expm1(y_XGB_predict)))\n",
    "\n",
    "print(f'XGBoost Mean Squared Error: {XGB_model_error}')"
   ]
  },
  {
   "cell_type": "code",
   "execution_count": null,
   "metadata": {},
   "outputs": [],
   "source": []
  }
 ],
 "metadata": {
  "kernelspec": {
   "display_name": "Python 3",
   "language": "python",
   "name": "python3"
  },
  "language_info": {
   "codemirror_mode": {
    "name": "ipython",
    "version": 3
   },
   "file_extension": ".py",
   "mimetype": "text/x-python",
   "name": "python",
   "nbconvert_exporter": "python",
   "pygments_lexer": "ipython3",
   "version": "3.7.3"
  }
 },
 "nbformat": 4,
 "nbformat_minor": 4
}
